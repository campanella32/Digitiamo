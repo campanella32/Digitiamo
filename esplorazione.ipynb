{
  "cells": [
    {
      "cell_type": "code",
      "execution_count": 1,
      "metadata": {
        "colab": {
          "base_uri": "https://localhost:8080/"
        },
        "id": "Tz3OMhtchpGb",
        "outputId": "8c0fbe19-abf8-4c3a-bf92-3791c903cea6"
      },
      "outputs": [
        {
          "ename": "KeyboardInterrupt",
          "evalue": "",
          "output_type": "error",
          "traceback": [
            "\u001b[1;31m---------------------------------------------------------------------------\u001b[0m",
            "\u001b[1;31mKeyboardInterrupt\u001b[0m                         Traceback (most recent call last)",
            "\u001b[1;32m<ipython-input-1-670b071f3124>\u001b[0m in \u001b[0;36m<module>\u001b[1;34m\u001b[0m\n\u001b[0;32m      3\u001b[0m \u001b[1;32mimport\u001b[0m \u001b[0mmatplotlib\u001b[0m\u001b[1;33m.\u001b[0m\u001b[0mpyplot\u001b[0m \u001b[1;32mas\u001b[0m \u001b[0mplt\u001b[0m\u001b[1;33m\u001b[0m\u001b[1;33m\u001b[0m\u001b[0m\n\u001b[0;32m      4\u001b[0m \u001b[1;32mimport\u001b[0m \u001b[0mstring\u001b[0m\u001b[1;33m\u001b[0m\u001b[1;33m\u001b[0m\u001b[0m\n\u001b[1;32m----> 5\u001b[1;33m \u001b[1;32mimport\u001b[0m \u001b[0mnltk\u001b[0m\u001b[1;33m\u001b[0m\u001b[1;33m\u001b[0m\u001b[0m\n\u001b[0m\u001b[0;32m      6\u001b[0m \u001b[1;32mfrom\u001b[0m \u001b[0mnltk\u001b[0m\u001b[1;33m.\u001b[0m\u001b[0mcorpus\u001b[0m \u001b[1;32mimport\u001b[0m \u001b[0mstopwords\u001b[0m\u001b[1;33m\u001b[0m\u001b[1;33m\u001b[0m\u001b[0m\n\u001b[0;32m      7\u001b[0m \u001b[1;32mimport\u001b[0m \u001b[0mre\u001b[0m\u001b[1;33m\u001b[0m\u001b[1;33m\u001b[0m\u001b[0m\n",
            "\u001b[1;32mc:\\Users\\Federico\\anaconda3\\lib\\site-packages\\nltk\\__init__.py\u001b[0m in \u001b[0;36m<module>\u001b[1;34m\u001b[0m\n\u001b[0;32m    129\u001b[0m \u001b[1;32mfrom\u001b[0m \u001b[0mnltk\u001b[0m\u001b[1;33m.\u001b[0m\u001b[0mdecorators\u001b[0m \u001b[1;32mimport\u001b[0m \u001b[0mdecorator\u001b[0m\u001b[1;33m,\u001b[0m \u001b[0mmemoize\u001b[0m\u001b[1;33m\u001b[0m\u001b[1;33m\u001b[0m\u001b[0m\n\u001b[0;32m    130\u001b[0m \u001b[1;32mfrom\u001b[0m \u001b[0mnltk\u001b[0m\u001b[1;33m.\u001b[0m\u001b[0mfeatstruct\u001b[0m \u001b[1;32mimport\u001b[0m \u001b[1;33m*\u001b[0m\u001b[1;33m\u001b[0m\u001b[1;33m\u001b[0m\u001b[0m\n\u001b[1;32m--> 131\u001b[1;33m \u001b[1;32mfrom\u001b[0m \u001b[0mnltk\u001b[0m\u001b[1;33m.\u001b[0m\u001b[0mgrammar\u001b[0m \u001b[1;32mimport\u001b[0m \u001b[1;33m*\u001b[0m\u001b[1;33m\u001b[0m\u001b[1;33m\u001b[0m\u001b[0m\n\u001b[0m\u001b[0;32m    132\u001b[0m \u001b[1;32mfrom\u001b[0m \u001b[0mnltk\u001b[0m\u001b[1;33m.\u001b[0m\u001b[0mprobability\u001b[0m \u001b[1;32mimport\u001b[0m \u001b[1;33m*\u001b[0m\u001b[1;33m\u001b[0m\u001b[1;33m\u001b[0m\u001b[0m\n\u001b[0;32m    133\u001b[0m \u001b[1;32mfrom\u001b[0m \u001b[0mnltk\u001b[0m\u001b[1;33m.\u001b[0m\u001b[0mtext\u001b[0m \u001b[1;32mimport\u001b[0m \u001b[1;33m*\u001b[0m\u001b[1;33m\u001b[0m\u001b[1;33m\u001b[0m\u001b[0m\n",
            "\u001b[1;32mc:\\Users\\Federico\\anaconda3\\lib\\importlib\\_bootstrap.py\u001b[0m in \u001b[0;36m_find_and_load\u001b[1;34m(name, import_)\u001b[0m\n",
            "\u001b[1;32mc:\\Users\\Federico\\anaconda3\\lib\\importlib\\_bootstrap.py\u001b[0m in \u001b[0;36m_find_and_load_unlocked\u001b[1;34m(name, import_)\u001b[0m\n",
            "\u001b[1;32mc:\\Users\\Federico\\anaconda3\\lib\\importlib\\_bootstrap.py\u001b[0m in \u001b[0;36m_load_unlocked\u001b[1;34m(spec)\u001b[0m\n",
            "\u001b[1;32mc:\\Users\\Federico\\anaconda3\\lib\\importlib\\_bootstrap_external.py\u001b[0m in \u001b[0;36mexec_module\u001b[1;34m(self, module)\u001b[0m\n",
            "\u001b[1;32mc:\\Users\\Federico\\anaconda3\\lib\\importlib\\_bootstrap_external.py\u001b[0m in \u001b[0;36mget_code\u001b[1;34m(self, fullname)\u001b[0m\n",
            "\u001b[1;32mc:\\Users\\Federico\\anaconda3\\lib\\importlib\\_bootstrap_external.py\u001b[0m in \u001b[0;36mget_data\u001b[1;34m(self, path)\u001b[0m\n",
            "\u001b[1;31mKeyboardInterrupt\u001b[0m: "
          ]
        }
      ],
      "source": [
        "import pandas as pd\n",
        "import os\n",
        "import matplotlib.pyplot as plt\n",
        "import string\n",
        "import nltk\n",
        "from nltk.corpus import stopwords\n",
        "import re\n",
        "from plotly import graph_objs as go\n",
        "from sklearn.feature_extraction.text import TfidfVectorizer\n",
        "from sklearn.decomposition import TruncatedSVD\n",
        "from sklearn.feature_extraction.text import CountVectorizer  # -- Bag of Words\n",
        "from sklearn.feature_extraction.text import TfidfVectorizer  # -- Tf-Idf\n",
        "from sklearn.decomposition import TruncatedSVD  # -- SVD\n",
        "from sklearn.svm import SVC  # -- SVM\n",
        "from sklearn.model_selection import train_test_split  # -- Split Dataset\n",
        "from sklearn.metrics import classification_report  # -- Model Summary\n",
        "from sklearn.ensemble import RandomForestClassifier  # -- Random Forest\n",
        "from sklearn.cluster import KMeans  # -- K-means Algorithm\n",
        "from sklearn.metrics import confusion_matrix  # -- Confusion Matrix\n",
        "from sklearn.metrics.cluster import normalized_mutual_info_score  # -- Mutual Information Score\n",
        "from sklearn.cluster import AgglomerativeClustering  # -- Hierarchical\n",
        "from sklearn.neighbors import KNeighborsClassifier  # -- knn\n",
        "import nltk\n",
        "nltk.download('punkt')"
      ]
    },
    {
      "cell_type": "markdown",
      "metadata": {
        "id": "OkcQl6oBh1bU"
      },
      "source": [
        "# LETTURA DATA SET"
      ]
    },
    {
      "cell_type": "code",
      "execution_count": 2,
      "metadata": {
        "colab": {
          "base_uri": "https://localhost:8080/",
          "height": 424
        },
        "id": "DT1GV-1Kh220",
        "outputId": "4e925384-9338-4d3a-812d-c1c2cb1e3372"
      },
      "outputs": [
        {
          "data": {
            "text/html": [
              "<div>\n",
              "<style scoped>\n",
              "    .dataframe tbody tr th:only-of-type {\n",
              "        vertical-align: middle;\n",
              "    }\n",
              "\n",
              "    .dataframe tbody tr th {\n",
              "        vertical-align: top;\n",
              "    }\n",
              "\n",
              "    .dataframe thead th {\n",
              "        text-align: right;\n",
              "    }\n",
              "</style>\n",
              "<table border=\"1\" class=\"dataframe\">\n",
              "  <thead>\n",
              "    <tr style=\"text-align: right;\">\n",
              "      <th></th>\n",
              "      <th>source</th>\n",
              "      <th>date</th>\n",
              "      <th>title</th>\n",
              "      <th>author</th>\n",
              "      <th>text</th>\n",
              "    </tr>\n",
              "  </thead>\n",
              "  <tbody>\n",
              "    <tr>\n",
              "      <th>33005</th>\n",
              "      <td>The Japan Times</td>\n",
              "      <td>2008-01-03</td>\n",
              "      <td>Second fire hits historic residence of U.S. ar...</td>\n",
              "      <td>NaN</td>\n",
              "      <td>YOKOHAMA –The historic residence of the late U...</td>\n",
              "    </tr>\n",
              "    <tr>\n",
              "      <th>25941</th>\n",
              "      <td>The Japan Times</td>\n",
              "      <td>2003-04-28</td>\n",
              "      <td>Satake turns out Castanares' lights</td>\n",
              "      <td>NaN</td>\n",
              "      <td>Masakazu Satake, one of Japan’s hottest boxing...</td>\n",
              "    </tr>\n",
              "  </tbody>\n",
              "</table>\n",
              "</div>"
            ],
            "text/plain": [
              "                source        date  \\\n",
              "33005  The Japan Times  2008-01-03   \n",
              "25941  The Japan Times  2003-04-28   \n",
              "\n",
              "                                                   title author  \\\n",
              "33005  Second fire hits historic residence of U.S. ar...    NaN   \n",
              "25941                Satake turns out Castanares' lights    NaN   \n",
              "\n",
              "                                                    text  \n",
              "33005  YOKOHAMA –The historic residence of the late U...  \n",
              "25941  Masakazu Satake, one of Japan’s hottest boxing...  "
            ]
          },
          "execution_count": 2,
          "metadata": {},
          "output_type": "execute_result"
        }
      ],
      "source": [
        "data_path = 'data/english_news.csv'\n",
        "data_eng = pd.read_csv(data_path, sep ='\\t')\n",
        "data_eng.sample(2)"
      ]
    },
    {
      "cell_type": "markdown",
      "metadata": {
        "id": "FtMkOs8tjRy0"
      },
      "source": [
        "# ELIMINAZIONE VALORI NULLI E DUPLICATI"
      ]
    },
    {
      "cell_type": "code",
      "execution_count": 3,
      "metadata": {
        "colab": {
          "base_uri": "https://localhost:8080/",
          "height": 175
        },
        "id": "_zPVv3--h7tB",
        "outputId": "4c181572-8e21-4953-e94e-2fd470dd9c3b"
      },
      "outputs": [
        {
          "data": {
            "text/html": [
              "<div>\n",
              "<style scoped>\n",
              "    .dataframe tbody tr th:only-of-type {\n",
              "        vertical-align: middle;\n",
              "    }\n",
              "\n",
              "    .dataframe tbody tr th {\n",
              "        vertical-align: top;\n",
              "    }\n",
              "\n",
              "    .dataframe thead th {\n",
              "        text-align: right;\n",
              "    }\n",
              "</style>\n",
              "<table border=\"1\" class=\"dataframe\">\n",
              "  <thead>\n",
              "    <tr style=\"text-align: right;\">\n",
              "      <th></th>\n",
              "      <th>source</th>\n",
              "      <th>date</th>\n",
              "      <th>title</th>\n",
              "      <th>author</th>\n",
              "      <th>text</th>\n",
              "    </tr>\n",
              "  </thead>\n",
              "  <tbody>\n",
              "    <tr>\n",
              "      <th>count</th>\n",
              "      <td>36889</td>\n",
              "      <td>36889</td>\n",
              "      <td>36889</td>\n",
              "      <td>12846</td>\n",
              "      <td>36766</td>\n",
              "    </tr>\n",
              "    <tr>\n",
              "      <th>unique</th>\n",
              "      <td>2</td>\n",
              "      <td>1504</td>\n",
              "      <td>36059</td>\n",
              "      <td>1318</td>\n",
              "      <td>35932</td>\n",
              "    </tr>\n",
              "    <tr>\n",
              "      <th>top</th>\n",
              "      <td>The Japan Times</td>\n",
              "      <td>2003-06-06</td>\n",
              "      <td>KANSAI: Who &amp; What</td>\n",
              "      <td>Philip Brasor</td>\n",
              "      <td>This could be due to a conflict with your ad-b...</td>\n",
              "    </tr>\n",
              "    <tr>\n",
              "      <th>freq</th>\n",
              "      <td>36815</td>\n",
              "      <td>66</td>\n",
              "      <td>23</td>\n",
              "      <td>318</td>\n",
              "      <td>5</td>\n",
              "    </tr>\n",
              "  </tbody>\n",
              "</table>\n",
              "</div>"
            ],
            "text/plain": [
              "                 source        date               title         author  \\\n",
              "count             36889       36889               36889          12846   \n",
              "unique                2        1504               36059           1318   \n",
              "top     The Japan Times  2003-06-06  KANSAI: Who & What  Philip Brasor   \n",
              "freq              36815          66                  23            318   \n",
              "\n",
              "                                                     text  \n",
              "count                                               36766  \n",
              "unique                                              35932  \n",
              "top     This could be due to a conflict with your ad-b...  \n",
              "freq                                                    5  "
            ]
          },
          "execution_count": 3,
          "metadata": {},
          "output_type": "execute_result"
        }
      ],
      "source": [
        "data_eng.describe()"
      ]
    },
    {
      "cell_type": "code",
      "execution_count": 4,
      "metadata": {
        "colab": {
          "base_uri": "https://localhost:8080/",
          "height": 175
        },
        "id": "muyDwhIWh_Lj",
        "outputId": "91fd88a8-e33a-46f4-c93b-dd15aa83fc09"
      },
      "outputs": [
        {
          "data": {
            "text/html": [
              "<div>\n",
              "<style scoped>\n",
              "    .dataframe tbody tr th:only-of-type {\n",
              "        vertical-align: middle;\n",
              "    }\n",
              "\n",
              "    .dataframe tbody tr th {\n",
              "        vertical-align: top;\n",
              "    }\n",
              "\n",
              "    .dataframe thead tr th {\n",
              "        text-align: left;\n",
              "    }\n",
              "\n",
              "    .dataframe thead tr:last-of-type th {\n",
              "        text-align: right;\n",
              "    }\n",
              "</style>\n",
              "<table border=\"1\" class=\"dataframe\">\n",
              "  <thead>\n",
              "    <tr>\n",
              "      <th></th>\n",
              "      <th colspan=\"4\" halign=\"left\">date</th>\n",
              "      <th colspan=\"4\" halign=\"left\">title</th>\n",
              "      <th colspan=\"4\" halign=\"left\">author</th>\n",
              "      <th colspan=\"4\" halign=\"left\">text</th>\n",
              "    </tr>\n",
              "    <tr>\n",
              "      <th></th>\n",
              "      <th>count</th>\n",
              "      <th>unique</th>\n",
              "      <th>top</th>\n",
              "      <th>freq</th>\n",
              "      <th>count</th>\n",
              "      <th>unique</th>\n",
              "      <th>top</th>\n",
              "      <th>freq</th>\n",
              "      <th>count</th>\n",
              "      <th>unique</th>\n",
              "      <th>top</th>\n",
              "      <th>freq</th>\n",
              "      <th>count</th>\n",
              "      <th>unique</th>\n",
              "      <th>top</th>\n",
              "      <th>freq</th>\n",
              "    </tr>\n",
              "    <tr>\n",
              "      <th>source</th>\n",
              "      <th></th>\n",
              "      <th></th>\n",
              "      <th></th>\n",
              "      <th></th>\n",
              "      <th></th>\n",
              "      <th></th>\n",
              "      <th></th>\n",
              "      <th></th>\n",
              "      <th></th>\n",
              "      <th></th>\n",
              "      <th></th>\n",
              "      <th></th>\n",
              "      <th></th>\n",
              "      <th></th>\n",
              "      <th></th>\n",
              "      <th></th>\n",
              "    </tr>\n",
              "  </thead>\n",
              "  <tbody>\n",
              "    <tr>\n",
              "      <th>Mainichi Shimbun</th>\n",
              "      <td>74</td>\n",
              "      <td>60</td>\n",
              "      <td>2021-12-08</td>\n",
              "      <td>3</td>\n",
              "      <td>74</td>\n",
              "      <td>74</td>\n",
              "      <td>Jonathan Bush, brother of President George H.W...</td>\n",
              "      <td>1</td>\n",
              "      <td>1</td>\n",
              "      <td>1</td>\n",
              "      <td>By</td>\n",
              "      <td>1</td>\n",
              "      <td>74</td>\n",
              "      <td>74</td>\n",
              "      <td>The Japanese government has finalized its dama...</td>\n",
              "      <td>1</td>\n",
              "    </tr>\n",
              "    <tr>\n",
              "      <th>The Japan Times</th>\n",
              "      <td>36815</td>\n",
              "      <td>1448</td>\n",
              "      <td>2003-06-06</td>\n",
              "      <td>66</td>\n",
              "      <td>36815</td>\n",
              "      <td>35985</td>\n",
              "      <td>KANSAI: Who &amp; What</td>\n",
              "      <td>23</td>\n",
              "      <td>12845</td>\n",
              "      <td>1317</td>\n",
              "      <td>Philip Brasor</td>\n",
              "      <td>318</td>\n",
              "      <td>36692</td>\n",
              "      <td>35858</td>\n",
              "      <td>This could be due to a conflict with your ad...</td>\n",
              "      <td>5</td>\n",
              "    </tr>\n",
              "  </tbody>\n",
              "</table>\n",
              "</div>"
            ],
            "text/plain": [
              "                   date                          title         \\\n",
              "                  count unique         top freq  count unique   \n",
              "source                                                          \n",
              "Mainichi Shimbun     74     60  2021-12-08    3     74     74   \n",
              "The Japan Times   36815   1448  2003-06-06   66  36815  35985   \n",
              "\n",
              "                                                                          \\\n",
              "                                                                top freq   \n",
              "source                                                                     \n",
              "Mainichi Shimbun  Jonathan Bush, brother of President George H.W...    1   \n",
              "The Japan Times                                  KANSAI: Who & What   23   \n",
              "\n",
              "                 author                              text         \\\n",
              "                  count unique            top freq  count unique   \n",
              "source                                                             \n",
              "Mainichi Shimbun      1      1            By     1     74     74   \n",
              "The Japan Times   12845   1317  Philip Brasor  318  36692  35858   \n",
              "\n",
              "                                                                          \n",
              "                                                                top freq  \n",
              "source                                                                    \n",
              "Mainichi Shimbun  The Japanese government has finalized its dama...    1  \n",
              "The Japan Times     This could be due to a conflict with your ad...    5  "
            ]
          },
          "execution_count": 4,
          "metadata": {},
          "output_type": "execute_result"
        }
      ],
      "source": [
        "data_eng.groupby('source').describe()"
      ]
    },
    {
      "cell_type": "markdown",
      "metadata": {
        "id": "0ahJKQ9Ph6Ni"
      },
      "source": [
        "# ANALISI DESCRITTIVA"
      ]
    },
    {
      "cell_type": "code",
      "execution_count": 5,
      "metadata": {
        "id": "ynyuKsSuiKZs"
      },
      "outputs": [],
      "source": [
        "data_eng_clean = data_eng.dropna(subset=['text'])\n",
        "df_clean= data_eng_clean.drop_duplicates(subset='text', keep=False)"
      ]
    },
    {
      "cell_type": "code",
      "execution_count": 6,
      "metadata": {
        "colab": {
          "base_uri": "https://localhost:8080/",
          "height": 449
        },
        "id": "6GT07xpOmp-k",
        "outputId": "9024102d-c14f-402a-cad9-21d0e6e5e83b"
      },
      "outputs": [
        {
          "name": "stderr",
          "output_type": "stream",
          "text": [
            "<ipython-input-6-e109327d775d>:2: SettingWithCopyWarning: \n",
            "A value is trying to be set on a copy of a slice from a DataFrame.\n",
            "Try using .loc[row_indexer,col_indexer] = value instead\n",
            "\n",
            "See the caveats in the documentation: https://pandas.pydata.org/pandas-docs/stable/user_guide/indexing.html#returning-a-view-versus-a-copy\n",
            "  df_clean['type_num'] = df_clean.source.map({'Mainichi Shimbun':0, 'The Japan Times':1})\n"
          ]
        },
        {
          "data": {
            "text/html": [
              "<div>\n",
              "<style scoped>\n",
              "    .dataframe tbody tr th:only-of-type {\n",
              "        vertical-align: middle;\n",
              "    }\n",
              "\n",
              "    .dataframe tbody tr th {\n",
              "        vertical-align: top;\n",
              "    }\n",
              "\n",
              "    .dataframe thead th {\n",
              "        text-align: right;\n",
              "    }\n",
              "</style>\n",
              "<table border=\"1\" class=\"dataframe\">\n",
              "  <thead>\n",
              "    <tr style=\"text-align: right;\">\n",
              "      <th></th>\n",
              "      <th>source</th>\n",
              "      <th>date</th>\n",
              "      <th>title</th>\n",
              "      <th>author</th>\n",
              "      <th>text</th>\n",
              "      <th>type_num</th>\n",
              "    </tr>\n",
              "  </thead>\n",
              "  <tbody>\n",
              "    <tr>\n",
              "      <th>0</th>\n",
              "      <td>Mainichi Shimbun</td>\n",
              "      <td>2021-12-06</td>\n",
              "      <td>Editorial: Japan govt's 20,000-yen handout mis...</td>\n",
              "      <td>NaN</td>\n",
              "      <td>The Japanese government is trying to boost the...</td>\n",
              "      <td>0</td>\n",
              "    </tr>\n",
              "    <tr>\n",
              "      <th>1</th>\n",
              "      <td>Mainichi Shimbun</td>\n",
              "      <td>2021-12-07</td>\n",
              "      <td>Editorial: Time for Japan PM Kishida to delive...</td>\n",
              "      <td>NaN</td>\n",
              "      <td>Prime Minister Fumio Kishida, who won a public...</td>\n",
              "      <td>0</td>\n",
              "    </tr>\n",
              "    <tr>\n",
              "      <th>2</th>\n",
              "      <td>Mainichi Shimbun</td>\n",
              "      <td>2021-12-08</td>\n",
              "      <td>Editorial: 80 years on from Pearl Harbor, acti...</td>\n",
              "      <td>NaN</td>\n",
              "      <td>It has been 80 years since the start of the Pa...</td>\n",
              "      <td>0</td>\n",
              "    </tr>\n",
              "    <tr>\n",
              "      <th>3</th>\n",
              "      <td>Mainichi Shimbun</td>\n",
              "      <td>2021-12-08</td>\n",
              "      <td>Yoroku: 80 years later, many lessons still not...</td>\n",
              "      <td>NaN</td>\n",
              "      <td>\"The world has changed completely. The era was...</td>\n",
              "      <td>0</td>\n",
              "    </tr>\n",
              "    <tr>\n",
              "      <th>4</th>\n",
              "      <td>Mainichi Shimbun</td>\n",
              "      <td>2021-12-08</td>\n",
              "      <td>Promoting respect for human rights behind US '...</td>\n",
              "      <td>NaN</td>\n",
              "      <td>The U.S. administration under President Joe Bi...</td>\n",
              "      <td>0</td>\n",
              "    </tr>\n",
              "  </tbody>\n",
              "</table>\n",
              "</div>"
            ],
            "text/plain": [
              "             source        date  \\\n",
              "0  Mainichi Shimbun  2021-12-06   \n",
              "1  Mainichi Shimbun  2021-12-07   \n",
              "2  Mainichi Shimbun  2021-12-08   \n",
              "3  Mainichi Shimbun  2021-12-08   \n",
              "4  Mainichi Shimbun  2021-12-08   \n",
              "\n",
              "                                               title author  \\\n",
              "0  Editorial: Japan govt's 20,000-yen handout mis...    NaN   \n",
              "1  Editorial: Time for Japan PM Kishida to delive...    NaN   \n",
              "2  Editorial: 80 years on from Pearl Harbor, acti...    NaN   \n",
              "3  Yoroku: 80 years later, many lessons still not...    NaN   \n",
              "4  Promoting respect for human rights behind US '...    NaN   \n",
              "\n",
              "                                                text  type_num  \n",
              "0  The Japanese government is trying to boost the...         0  \n",
              "1  Prime Minister Fumio Kishida, who won a public...         0  \n",
              "2  It has been 80 years since the start of the Pa...         0  \n",
              "3  \"The world has changed completely. The era was...         0  \n",
              "4  The U.S. administration under President Joe Bi...         0  "
            ]
          },
          "execution_count": 6,
          "metadata": {},
          "output_type": "execute_result"
        }
      ],
      "source": [
        "# convert type to a numerical variable\n",
        "df_clean['type_num'] = df_clean.source.map({'Mainichi Shimbun':0, 'The Japan Times':1})\n",
        "df_clean.head()"
      ]
    },
    {
      "cell_type": "code",
      "execution_count": 8,
      "metadata": {
        "colab": {
          "base_uri": "https://localhost:8080/",
          "height": 175
        },
        "id": "mh11F6g9jZpa",
        "outputId": "3e936c83-5d95-4ad2-9d8c-2b0aba88e484"
      },
      "outputs": [
        {
          "data": {
            "text/html": [
              "<div>\n",
              "<style scoped>\n",
              "    .dataframe tbody tr th:only-of-type {\n",
              "        vertical-align: middle;\n",
              "    }\n",
              "\n",
              "    .dataframe tbody tr th {\n",
              "        vertical-align: top;\n",
              "    }\n",
              "\n",
              "    .dataframe thead tr th {\n",
              "        text-align: left;\n",
              "    }\n",
              "\n",
              "    .dataframe thead tr:last-of-type th {\n",
              "        text-align: right;\n",
              "    }\n",
              "</style>\n",
              "<table border=\"1\" class=\"dataframe\">\n",
              "  <thead>\n",
              "    <tr>\n",
              "      <th></th>\n",
              "      <th colspan=\"8\" halign=\"left\">type_num</th>\n",
              "    </tr>\n",
              "    <tr>\n",
              "      <th></th>\n",
              "      <th>count</th>\n",
              "      <th>mean</th>\n",
              "      <th>std</th>\n",
              "      <th>min</th>\n",
              "      <th>25%</th>\n",
              "      <th>50%</th>\n",
              "      <th>75%</th>\n",
              "      <th>max</th>\n",
              "    </tr>\n",
              "    <tr>\n",
              "      <th>source</th>\n",
              "      <th></th>\n",
              "      <th></th>\n",
              "      <th></th>\n",
              "      <th></th>\n",
              "      <th></th>\n",
              "      <th></th>\n",
              "      <th></th>\n",
              "      <th></th>\n",
              "    </tr>\n",
              "  </thead>\n",
              "  <tbody>\n",
              "    <tr>\n",
              "      <th>Mainichi Shimbun</th>\n",
              "      <td>74.0</td>\n",
              "      <td>0.0</td>\n",
              "      <td>0.0</td>\n",
              "      <td>0.0</td>\n",
              "      <td>0.0</td>\n",
              "      <td>0.0</td>\n",
              "      <td>0.0</td>\n",
              "      <td>0.0</td>\n",
              "    </tr>\n",
              "    <tr>\n",
              "      <th>The Japan Times</th>\n",
              "      <td>35218.0</td>\n",
              "      <td>1.0</td>\n",
              "      <td>0.0</td>\n",
              "      <td>1.0</td>\n",
              "      <td>1.0</td>\n",
              "      <td>1.0</td>\n",
              "      <td>1.0</td>\n",
              "      <td>1.0</td>\n",
              "    </tr>\n",
              "  </tbody>\n",
              "</table>\n",
              "</div>"
            ],
            "text/plain": [
              "                 type_num                                   \n",
              "                    count mean  std  min  25%  50%  75%  max\n",
              "source                                                      \n",
              "Mainichi Shimbun     74.0  0.0  0.0  0.0  0.0  0.0  0.0  0.0\n",
              "The Japan Times   35218.0  1.0  0.0  1.0  1.0  1.0  1.0  1.0"
            ]
          },
          "execution_count": 8,
          "metadata": {},
          "output_type": "execute_result"
        }
      ],
      "source": [
        "df_clean.groupby('source').describe()"
      ]
    },
    {
      "cell_type": "code",
      "execution_count": null,
      "metadata": {
        "colab": {
          "base_uri": "https://localhost:8080/"
        },
        "id": "74m3BeaikceK",
        "outputId": "f17583d7-d3af-4fc9-af91-953ec7b7a4d9"
      },
      "outputs": [
        {
          "name": "stderr",
          "output_type": "stream",
          "text": [
            "<ipython-input-9-e84c8c056e7a>:1: SettingWithCopyWarning: \n",
            "A value is trying to be set on a copy of a slice from a DataFrame.\n",
            "Try using .loc[row_indexer,col_indexer] = value instead\n",
            "\n",
            "See the caveats in the documentation: https://pandas.pydata.org/pandas-docs/stable/user_guide/indexing.html#returning-a-view-versus-a-copy\n",
            "  df_clean['text_len'] = df_clean.text.apply(len)\n",
            "<ipython-input-9-e84c8c056e7a>:2: SettingWithCopyWarning: \n",
            "A value is trying to be set on a copy of a slice from a DataFrame.\n",
            "Try using .loc[row_indexer,col_indexer] = value instead\n",
            "\n",
            "See the caveats in the documentation: https://pandas.pydata.org/pandas-docs/stable/user_guide/indexing.html#returning-a-view-versus-a-copy\n",
            "  df_clean['Numero_di_parole'] = df_clean['text'].str.split().str.len()\n"
          ]
        }
      ],
      "source": [
        "df_clean['n_characters'] = df_clean['text'].str.len()\n",
        "df_clean['n_words']      = df_clean['text'].str.split().str.len()"
      ]
    },
    {
      "cell_type": "code",
      "execution_count": 10,
      "metadata": {
        "colab": {
          "base_uri": "https://localhost:8080/"
        },
        "id": "4PCzABjvl82O",
        "outputId": "c35afef0-eb20-4241-810b-f3c3c3611d9c"
      },
      "outputs": [
        {
          "data": {
            "text/plain": [
              "array([   74, 35218], dtype=int64)"
            ]
          },
          "execution_count": 10,
          "metadata": {},
          "output_type": "execute_result"
        }
      ],
      "source": [
        "balance_counts = df_clean.groupby('source')['source'].agg('count').values\n",
        "balance_counts"
      ]
    },
    {
      "cell_type": "code",
      "execution_count": 11,
      "metadata": {
        "colab": {
          "base_uri": "https://localhost:8080/",
          "height": 542
        },
        "id": "wA5Jq_wPlhBL",
        "outputId": "f155da74-e033-425b-cca1-8c4a4c6ecb0a"
      },
      "outputs": [
        {
          "data": {
            "application/vnd.plotly.v1+json": {
              "config": {
                "plotlyServerURL": "https://plot.ly"
              },
              "data": [
                {
                  "name": "Mainichi Shimbun",
                  "text": [
                    "74"
                  ],
                  "textposition": "auto",
                  "type": "bar",
                  "x": [
                    "Mainichi Shimbun"
                  ],
                  "y": [
                    74
                  ]
                },
                {
                  "name": "The Japan Times",
                  "text": [
                    "35218"
                  ],
                  "textposition": "auto",
                  "type": "bar",
                  "x": [
                    "The Japan Times"
                  ],
                  "y": [
                    35218
                  ]
                }
              ],
              "layout": {
                "template": {
                  "data": {
                    "bar": [
                      {
                        "error_x": {
                          "color": "#2a3f5f"
                        },
                        "error_y": {
                          "color": "#2a3f5f"
                        },
                        "marker": {
                          "line": {
                            "color": "#E5ECF6",
                            "width": 0.5
                          },
                          "pattern": {
                            "fillmode": "overlay",
                            "size": 10,
                            "solidity": 0.2
                          }
                        },
                        "type": "bar"
                      }
                    ],
                    "barpolar": [
                      {
                        "marker": {
                          "line": {
                            "color": "#E5ECF6",
                            "width": 0.5
                          },
                          "pattern": {
                            "fillmode": "overlay",
                            "size": 10,
                            "solidity": 0.2
                          }
                        },
                        "type": "barpolar"
                      }
                    ],
                    "carpet": [
                      {
                        "aaxis": {
                          "endlinecolor": "#2a3f5f",
                          "gridcolor": "white",
                          "linecolor": "white",
                          "minorgridcolor": "white",
                          "startlinecolor": "#2a3f5f"
                        },
                        "baxis": {
                          "endlinecolor": "#2a3f5f",
                          "gridcolor": "white",
                          "linecolor": "white",
                          "minorgridcolor": "white",
                          "startlinecolor": "#2a3f5f"
                        },
                        "type": "carpet"
                      }
                    ],
                    "choropleth": [
                      {
                        "colorbar": {
                          "outlinewidth": 0,
                          "ticks": ""
                        },
                        "type": "choropleth"
                      }
                    ],
                    "contour": [
                      {
                        "colorbar": {
                          "outlinewidth": 0,
                          "ticks": ""
                        },
                        "colorscale": [
                          [
                            0,
                            "#0d0887"
                          ],
                          [
                            0.1111111111111111,
                            "#46039f"
                          ],
                          [
                            0.2222222222222222,
                            "#7201a8"
                          ],
                          [
                            0.3333333333333333,
                            "#9c179e"
                          ],
                          [
                            0.4444444444444444,
                            "#bd3786"
                          ],
                          [
                            0.5555555555555556,
                            "#d8576b"
                          ],
                          [
                            0.6666666666666666,
                            "#ed7953"
                          ],
                          [
                            0.7777777777777778,
                            "#fb9f3a"
                          ],
                          [
                            0.8888888888888888,
                            "#fdca26"
                          ],
                          [
                            1,
                            "#f0f921"
                          ]
                        ],
                        "type": "contour"
                      }
                    ],
                    "contourcarpet": [
                      {
                        "colorbar": {
                          "outlinewidth": 0,
                          "ticks": ""
                        },
                        "type": "contourcarpet"
                      }
                    ],
                    "heatmap": [
                      {
                        "colorbar": {
                          "outlinewidth": 0,
                          "ticks": ""
                        },
                        "colorscale": [
                          [
                            0,
                            "#0d0887"
                          ],
                          [
                            0.1111111111111111,
                            "#46039f"
                          ],
                          [
                            0.2222222222222222,
                            "#7201a8"
                          ],
                          [
                            0.3333333333333333,
                            "#9c179e"
                          ],
                          [
                            0.4444444444444444,
                            "#bd3786"
                          ],
                          [
                            0.5555555555555556,
                            "#d8576b"
                          ],
                          [
                            0.6666666666666666,
                            "#ed7953"
                          ],
                          [
                            0.7777777777777778,
                            "#fb9f3a"
                          ],
                          [
                            0.8888888888888888,
                            "#fdca26"
                          ],
                          [
                            1,
                            "#f0f921"
                          ]
                        ],
                        "type": "heatmap"
                      }
                    ],
                    "heatmapgl": [
                      {
                        "colorbar": {
                          "outlinewidth": 0,
                          "ticks": ""
                        },
                        "colorscale": [
                          [
                            0,
                            "#0d0887"
                          ],
                          [
                            0.1111111111111111,
                            "#46039f"
                          ],
                          [
                            0.2222222222222222,
                            "#7201a8"
                          ],
                          [
                            0.3333333333333333,
                            "#9c179e"
                          ],
                          [
                            0.4444444444444444,
                            "#bd3786"
                          ],
                          [
                            0.5555555555555556,
                            "#d8576b"
                          ],
                          [
                            0.6666666666666666,
                            "#ed7953"
                          ],
                          [
                            0.7777777777777778,
                            "#fb9f3a"
                          ],
                          [
                            0.8888888888888888,
                            "#fdca26"
                          ],
                          [
                            1,
                            "#f0f921"
                          ]
                        ],
                        "type": "heatmapgl"
                      }
                    ],
                    "histogram": [
                      {
                        "marker": {
                          "pattern": {
                            "fillmode": "overlay",
                            "size": 10,
                            "solidity": 0.2
                          }
                        },
                        "type": "histogram"
                      }
                    ],
                    "histogram2d": [
                      {
                        "colorbar": {
                          "outlinewidth": 0,
                          "ticks": ""
                        },
                        "colorscale": [
                          [
                            0,
                            "#0d0887"
                          ],
                          [
                            0.1111111111111111,
                            "#46039f"
                          ],
                          [
                            0.2222222222222222,
                            "#7201a8"
                          ],
                          [
                            0.3333333333333333,
                            "#9c179e"
                          ],
                          [
                            0.4444444444444444,
                            "#bd3786"
                          ],
                          [
                            0.5555555555555556,
                            "#d8576b"
                          ],
                          [
                            0.6666666666666666,
                            "#ed7953"
                          ],
                          [
                            0.7777777777777778,
                            "#fb9f3a"
                          ],
                          [
                            0.8888888888888888,
                            "#fdca26"
                          ],
                          [
                            1,
                            "#f0f921"
                          ]
                        ],
                        "type": "histogram2d"
                      }
                    ],
                    "histogram2dcontour": [
                      {
                        "colorbar": {
                          "outlinewidth": 0,
                          "ticks": ""
                        },
                        "colorscale": [
                          [
                            0,
                            "#0d0887"
                          ],
                          [
                            0.1111111111111111,
                            "#46039f"
                          ],
                          [
                            0.2222222222222222,
                            "#7201a8"
                          ],
                          [
                            0.3333333333333333,
                            "#9c179e"
                          ],
                          [
                            0.4444444444444444,
                            "#bd3786"
                          ],
                          [
                            0.5555555555555556,
                            "#d8576b"
                          ],
                          [
                            0.6666666666666666,
                            "#ed7953"
                          ],
                          [
                            0.7777777777777778,
                            "#fb9f3a"
                          ],
                          [
                            0.8888888888888888,
                            "#fdca26"
                          ],
                          [
                            1,
                            "#f0f921"
                          ]
                        ],
                        "type": "histogram2dcontour"
                      }
                    ],
                    "mesh3d": [
                      {
                        "colorbar": {
                          "outlinewidth": 0,
                          "ticks": ""
                        },
                        "type": "mesh3d"
                      }
                    ],
                    "parcoords": [
                      {
                        "line": {
                          "colorbar": {
                            "outlinewidth": 0,
                            "ticks": ""
                          }
                        },
                        "type": "parcoords"
                      }
                    ],
                    "pie": [
                      {
                        "automargin": true,
                        "type": "pie"
                      }
                    ],
                    "scatter": [
                      {
                        "marker": {
                          "colorbar": {
                            "outlinewidth": 0,
                            "ticks": ""
                          }
                        },
                        "type": "scatter"
                      }
                    ],
                    "scatter3d": [
                      {
                        "line": {
                          "colorbar": {
                            "outlinewidth": 0,
                            "ticks": ""
                          }
                        },
                        "marker": {
                          "colorbar": {
                            "outlinewidth": 0,
                            "ticks": ""
                          }
                        },
                        "type": "scatter3d"
                      }
                    ],
                    "scattercarpet": [
                      {
                        "marker": {
                          "colorbar": {
                            "outlinewidth": 0,
                            "ticks": ""
                          }
                        },
                        "type": "scattercarpet"
                      }
                    ],
                    "scattergeo": [
                      {
                        "marker": {
                          "colorbar": {
                            "outlinewidth": 0,
                            "ticks": ""
                          }
                        },
                        "type": "scattergeo"
                      }
                    ],
                    "scattergl": [
                      {
                        "marker": {
                          "colorbar": {
                            "outlinewidth": 0,
                            "ticks": ""
                          }
                        },
                        "type": "scattergl"
                      }
                    ],
                    "scattermapbox": [
                      {
                        "marker": {
                          "colorbar": {
                            "outlinewidth": 0,
                            "ticks": ""
                          }
                        },
                        "type": "scattermapbox"
                      }
                    ],
                    "scatterpolar": [
                      {
                        "marker": {
                          "colorbar": {
                            "outlinewidth": 0,
                            "ticks": ""
                          }
                        },
                        "type": "scatterpolar"
                      }
                    ],
                    "scatterpolargl": [
                      {
                        "marker": {
                          "colorbar": {
                            "outlinewidth": 0,
                            "ticks": ""
                          }
                        },
                        "type": "scatterpolargl"
                      }
                    ],
                    "scatterternary": [
                      {
                        "marker": {
                          "colorbar": {
                            "outlinewidth": 0,
                            "ticks": ""
                          }
                        },
                        "type": "scatterternary"
                      }
                    ],
                    "surface": [
                      {
                        "colorbar": {
                          "outlinewidth": 0,
                          "ticks": ""
                        },
                        "colorscale": [
                          [
                            0,
                            "#0d0887"
                          ],
                          [
                            0.1111111111111111,
                            "#46039f"
                          ],
                          [
                            0.2222222222222222,
                            "#7201a8"
                          ],
                          [
                            0.3333333333333333,
                            "#9c179e"
                          ],
                          [
                            0.4444444444444444,
                            "#bd3786"
                          ],
                          [
                            0.5555555555555556,
                            "#d8576b"
                          ],
                          [
                            0.6666666666666666,
                            "#ed7953"
                          ],
                          [
                            0.7777777777777778,
                            "#fb9f3a"
                          ],
                          [
                            0.8888888888888888,
                            "#fdca26"
                          ],
                          [
                            1,
                            "#f0f921"
                          ]
                        ],
                        "type": "surface"
                      }
                    ],
                    "table": [
                      {
                        "cells": {
                          "fill": {
                            "color": "#EBF0F8"
                          },
                          "line": {
                            "color": "white"
                          }
                        },
                        "header": {
                          "fill": {
                            "color": "#C8D4E3"
                          },
                          "line": {
                            "color": "white"
                          }
                        },
                        "type": "table"
                      }
                    ]
                  },
                  "layout": {
                    "annotationdefaults": {
                      "arrowcolor": "#2a3f5f",
                      "arrowhead": 0,
                      "arrowwidth": 1
                    },
                    "autotypenumbers": "strict",
                    "coloraxis": {
                      "colorbar": {
                        "outlinewidth": 0,
                        "ticks": ""
                      }
                    },
                    "colorscale": {
                      "diverging": [
                        [
                          0,
                          "#8e0152"
                        ],
                        [
                          0.1,
                          "#c51b7d"
                        ],
                        [
                          0.2,
                          "#de77ae"
                        ],
                        [
                          0.3,
                          "#f1b6da"
                        ],
                        [
                          0.4,
                          "#fde0ef"
                        ],
                        [
                          0.5,
                          "#f7f7f7"
                        ],
                        [
                          0.6,
                          "#e6f5d0"
                        ],
                        [
                          0.7,
                          "#b8e186"
                        ],
                        [
                          0.8,
                          "#7fbc41"
                        ],
                        [
                          0.9,
                          "#4d9221"
                        ],
                        [
                          1,
                          "#276419"
                        ]
                      ],
                      "sequential": [
                        [
                          0,
                          "#0d0887"
                        ],
                        [
                          0.1111111111111111,
                          "#46039f"
                        ],
                        [
                          0.2222222222222222,
                          "#7201a8"
                        ],
                        [
                          0.3333333333333333,
                          "#9c179e"
                        ],
                        [
                          0.4444444444444444,
                          "#bd3786"
                        ],
                        [
                          0.5555555555555556,
                          "#d8576b"
                        ],
                        [
                          0.6666666666666666,
                          "#ed7953"
                        ],
                        [
                          0.7777777777777778,
                          "#fb9f3a"
                        ],
                        [
                          0.8888888888888888,
                          "#fdca26"
                        ],
                        [
                          1,
                          "#f0f921"
                        ]
                      ],
                      "sequentialminus": [
                        [
                          0,
                          "#0d0887"
                        ],
                        [
                          0.1111111111111111,
                          "#46039f"
                        ],
                        [
                          0.2222222222222222,
                          "#7201a8"
                        ],
                        [
                          0.3333333333333333,
                          "#9c179e"
                        ],
                        [
                          0.4444444444444444,
                          "#bd3786"
                        ],
                        [
                          0.5555555555555556,
                          "#d8576b"
                        ],
                        [
                          0.6666666666666666,
                          "#ed7953"
                        ],
                        [
                          0.7777777777777778,
                          "#fb9f3a"
                        ],
                        [
                          0.8888888888888888,
                          "#fdca26"
                        ],
                        [
                          1,
                          "#f0f921"
                        ]
                      ]
                    },
                    "colorway": [
                      "#636efa",
                      "#EF553B",
                      "#00cc96",
                      "#ab63fa",
                      "#FFA15A",
                      "#19d3f3",
                      "#FF6692",
                      "#B6E880",
                      "#FF97FF",
                      "#FECB52"
                    ],
                    "font": {
                      "color": "#2a3f5f"
                    },
                    "geo": {
                      "bgcolor": "white",
                      "lakecolor": "white",
                      "landcolor": "#E5ECF6",
                      "showlakes": true,
                      "showland": true,
                      "subunitcolor": "white"
                    },
                    "hoverlabel": {
                      "align": "left"
                    },
                    "hovermode": "closest",
                    "mapbox": {
                      "style": "light"
                    },
                    "paper_bgcolor": "white",
                    "plot_bgcolor": "#E5ECF6",
                    "polar": {
                      "angularaxis": {
                        "gridcolor": "white",
                        "linecolor": "white",
                        "ticks": ""
                      },
                      "bgcolor": "#E5ECF6",
                      "radialaxis": {
                        "gridcolor": "white",
                        "linecolor": "white",
                        "ticks": ""
                      }
                    },
                    "scene": {
                      "xaxis": {
                        "backgroundcolor": "#E5ECF6",
                        "gridcolor": "white",
                        "gridwidth": 2,
                        "linecolor": "white",
                        "showbackground": true,
                        "ticks": "",
                        "zerolinecolor": "white"
                      },
                      "yaxis": {
                        "backgroundcolor": "#E5ECF6",
                        "gridcolor": "white",
                        "gridwidth": 2,
                        "linecolor": "white",
                        "showbackground": true,
                        "ticks": "",
                        "zerolinecolor": "white"
                      },
                      "zaxis": {
                        "backgroundcolor": "#E5ECF6",
                        "gridcolor": "white",
                        "gridwidth": 2,
                        "linecolor": "white",
                        "showbackground": true,
                        "ticks": "",
                        "zerolinecolor": "white"
                      }
                    },
                    "shapedefaults": {
                      "line": {
                        "color": "#2a3f5f"
                      }
                    },
                    "ternary": {
                      "aaxis": {
                        "gridcolor": "white",
                        "linecolor": "white",
                        "ticks": ""
                      },
                      "baxis": {
                        "gridcolor": "white",
                        "linecolor": "white",
                        "ticks": ""
                      },
                      "bgcolor": "#E5ECF6",
                      "caxis": {
                        "gridcolor": "white",
                        "linecolor": "white",
                        "ticks": ""
                      }
                    },
                    "title": {
                      "x": 0.05
                    },
                    "xaxis": {
                      "automargin": true,
                      "gridcolor": "white",
                      "linecolor": "white",
                      "ticks": "",
                      "title": {
                        "standoff": 15
                      },
                      "zerolinecolor": "white",
                      "zerolinewidth": 2
                    },
                    "yaxis": {
                      "automargin": true,
                      "gridcolor": "white",
                      "linecolor": "white",
                      "ticks": "",
                      "title": {
                        "standoff": 15
                      },
                      "zerolinecolor": "white",
                      "zerolinewidth": 2
                    }
                  }
                },
                "title": {
                  "text": "<span style=\"font-size:32px; font-family:Times New Roman\">Distribuzione dei Giornali</span>"
                }
              }
            }
          },
          "metadata": {},
          "output_type": "display_data"
        }
      ],
      "source": [
        "fig = go.Figure()\n",
        "fig.add_trace(go.Bar(\n",
        "    x=['Mainichi Shimbun'],\n",
        "    y=[balance_counts[0]],\n",
        "    name='Mainichi Shimbun',\n",
        "    text=[balance_counts[0]],\n",
        "    textposition='auto',\n",
        "))\n",
        "fig.add_trace(go.Bar(\n",
        "    x=['The Japan Times'],\n",
        "    y=[balance_counts[1]],\n",
        "    name='The Japan Times',\n",
        "    text=[balance_counts[1]],\n",
        "    textposition='auto'\n",
        "))\n",
        "fig.update_layout(\n",
        "    title='<span style=\"font-size:32px; font-family:Times New Roman\">Distribuzione dei Giornali</span>'\n",
        ")\n",
        "fig.show()"
      ]
    },
    {
      "cell_type": "code",
      "execution_count": 12,
      "metadata": {
        "colab": {
          "base_uri": "https://localhost:8080/",
          "height": 713
        },
        "id": "erVwkU2UmLdE",
        "outputId": "3d76dfec-796c-4107-b00a-38e4497c9f42"
      },
      "outputs": [
        {
          "data": {
            "text/plain": [
              "Text(0.5, 0, 'Numero di Parole')"
            ]
          },
          "execution_count": 12,
          "metadata": {},
          "output_type": "execute_result"
        },
        {
          "data": {
            "image/png": "[encoded data removed]",
            "text/plain": [
              "<Figure size 1296x576 with 1 Axes>"
            ]
          },
          "metadata": {
            "needs_background": "light"
          },
          "output_type": "display_data"
        }
      ],
      "source": [
        "plt.figure(figsize=(18, 8))\n",
        "\n",
        "df_clean[df_clean.source=='Mainichi Shimbun'].Numero_di_parole.plot(bins=1, kind='hist', color='green',\n",
        "                                       label='Mainichi Shimbun', alpha=0.6)\n",
        "df_clean[df_clean.source=='The Japan Times'].Numero_di_parole.plot(kind='hist', color='red',\n",
        "                                       label='The Japan Times', alpha=0.6)\n",
        "plt.legend()\n",
        "plt.xlabel(\"Numero di Parole\")"
      ]
    },
    {
      "cell_type": "code",
      "execution_count": 13,
      "metadata": {
        "colab": {
          "base_uri": "https://localhost:8080/",
          "height": 300
        },
        "id": "Rjb6sb9MnMA2",
        "outputId": "2d780d0f-730c-4984-88a3-aa6299c11b88"
      },
      "outputs": [
        {
          "data": {
            "text/html": [
              "<div>\n",
              "<style scoped>\n",
              "    .dataframe tbody tr th:only-of-type {\n",
              "        vertical-align: middle;\n",
              "    }\n",
              "\n",
              "    .dataframe tbody tr th {\n",
              "        vertical-align: top;\n",
              "    }\n",
              "\n",
              "    .dataframe thead th {\n",
              "        text-align: right;\n",
              "    }\n",
              "</style>\n",
              "<table border=\"1\" class=\"dataframe\">\n",
              "  <thead>\n",
              "    <tr style=\"text-align: right;\">\n",
              "      <th></th>\n",
              "      <th>type_num</th>\n",
              "      <th>text_len</th>\n",
              "      <th>Numero_di_parole</th>\n",
              "    </tr>\n",
              "  </thead>\n",
              "  <tbody>\n",
              "    <tr>\n",
              "      <th>count</th>\n",
              "      <td>74.0</td>\n",
              "      <td>74.000000</td>\n",
              "      <td>74.000000</td>\n",
              "    </tr>\n",
              "    <tr>\n",
              "      <th>mean</th>\n",
              "      <td>0.0</td>\n",
              "      <td>3597.837838</td>\n",
              "      <td>591.662162</td>\n",
              "    </tr>\n",
              "    <tr>\n",
              "      <th>std</th>\n",
              "      <td>0.0</td>\n",
              "      <td>2170.716535</td>\n",
              "      <td>362.978179</td>\n",
              "    </tr>\n",
              "    <tr>\n",
              "      <th>min</th>\n",
              "      <td>0.0</td>\n",
              "      <td>458.000000</td>\n",
              "      <td>78.000000</td>\n",
              "    </tr>\n",
              "    <tr>\n",
              "      <th>25%</th>\n",
              "      <td>0.0</td>\n",
              "      <td>2269.250000</td>\n",
              "      <td>368.750000</td>\n",
              "    </tr>\n",
              "    <tr>\n",
              "      <th>50%</th>\n",
              "      <td>0.0</td>\n",
              "      <td>3175.500000</td>\n",
              "      <td>515.500000</td>\n",
              "    </tr>\n",
              "    <tr>\n",
              "      <th>75%</th>\n",
              "      <td>0.0</td>\n",
              "      <td>3911.000000</td>\n",
              "      <td>644.750000</td>\n",
              "    </tr>\n",
              "    <tr>\n",
              "      <th>max</th>\n",
              "      <td>0.0</td>\n",
              "      <td>9842.000000</td>\n",
              "      <td>1600.000000</td>\n",
              "    </tr>\n",
              "  </tbody>\n",
              "</table>\n",
              "</div>"
            ],
            "text/plain": [
              "       type_num     text_len  Numero_di_parole\n",
              "count      74.0    74.000000         74.000000\n",
              "mean        0.0  3597.837838        591.662162\n",
              "std         0.0  2170.716535        362.978179\n",
              "min         0.0   458.000000         78.000000\n",
              "25%         0.0  2269.250000        368.750000\n",
              "50%         0.0  3175.500000        515.500000\n",
              "75%         0.0  3911.000000        644.750000\n",
              "max         0.0  9842.000000       1600.000000"
            ]
          },
          "execution_count": 13,
          "metadata": {},
          "output_type": "execute_result"
        }
      ],
      "source": [
        "df_clean[df_clean.source=='Mainichi Shimbun'].describe()"
      ]
    },
    {
      "cell_type": "code",
      "execution_count": 14,
      "metadata": {
        "colab": {
          "base_uri": "https://localhost:8080/",
          "height": 300
        },
        "id": "Npobh9Yxn_42",
        "outputId": "491528a0-d164-45fc-9c26-14af1155d72f"
      },
      "outputs": [
        {
          "data": {
            "text/html": [
              "<div>\n",
              "<style scoped>\n",
              "    .dataframe tbody tr th:only-of-type {\n",
              "        vertical-align: middle;\n",
              "    }\n",
              "\n",
              "    .dataframe tbody tr th {\n",
              "        vertical-align: top;\n",
              "    }\n",
              "\n",
              "    .dataframe thead th {\n",
              "        text-align: right;\n",
              "    }\n",
              "</style>\n",
              "<table border=\"1\" class=\"dataframe\">\n",
              "  <thead>\n",
              "    <tr style=\"text-align: right;\">\n",
              "      <th></th>\n",
              "      <th>type_num</th>\n",
              "      <th>text_len</th>\n",
              "      <th>Numero_di_parole</th>\n",
              "    </tr>\n",
              "  </thead>\n",
              "  <tbody>\n",
              "    <tr>\n",
              "      <th>count</th>\n",
              "      <td>35218.0</td>\n",
              "      <td>35218.000000</td>\n",
              "      <td>35218.000000</td>\n",
              "    </tr>\n",
              "    <tr>\n",
              "      <th>mean</th>\n",
              "      <td>1.0</td>\n",
              "      <td>794.545091</td>\n",
              "      <td>127.760946</td>\n",
              "    </tr>\n",
              "    <tr>\n",
              "      <th>std</th>\n",
              "      <td>0.0</td>\n",
              "      <td>270.531434</td>\n",
              "      <td>44.831390</td>\n",
              "    </tr>\n",
              "    <tr>\n",
              "      <th>min</th>\n",
              "      <td>1.0</td>\n",
              "      <td>333.000000</td>\n",
              "      <td>52.000000</td>\n",
              "    </tr>\n",
              "    <tr>\n",
              "      <th>25%</th>\n",
              "      <td>1.0</td>\n",
              "      <td>667.000000</td>\n",
              "      <td>106.000000</td>\n",
              "    </tr>\n",
              "    <tr>\n",
              "      <th>50%</th>\n",
              "      <td>1.0</td>\n",
              "      <td>737.000000</td>\n",
              "      <td>118.000000</td>\n",
              "    </tr>\n",
              "    <tr>\n",
              "      <th>75%</th>\n",
              "      <td>1.0</td>\n",
              "      <td>838.000000</td>\n",
              "      <td>135.000000</td>\n",
              "    </tr>\n",
              "    <tr>\n",
              "      <th>max</th>\n",
              "      <td>1.0</td>\n",
              "      <td>15605.000000</td>\n",
              "      <td>2577.000000</td>\n",
              "    </tr>\n",
              "  </tbody>\n",
              "</table>\n",
              "</div>"
            ],
            "text/plain": [
              "       type_num      text_len  Numero_di_parole\n",
              "count   35218.0  35218.000000      35218.000000\n",
              "mean        1.0    794.545091        127.760946\n",
              "std         0.0    270.531434         44.831390\n",
              "min         1.0    333.000000         52.000000\n",
              "25%         1.0    667.000000        106.000000\n",
              "50%         1.0    737.000000        118.000000\n",
              "75%         1.0    838.000000        135.000000\n",
              "max         1.0  15605.000000       2577.000000"
            ]
          },
          "execution_count": 14,
          "metadata": {},
          "output_type": "execute_result"
        }
      ],
      "source": [
        "df_clean[df_clean.source=='The Japan Times'].describe()"
      ]
    },
    {
      "cell_type": "markdown",
      "metadata": {
        "id": "NuzXfNmco3au"
      },
      "source": [
        "# PRE- PROCCESSING"
      ]
    },
    {
      "cell_type": "code",
      "execution_count": 15,
      "metadata": {
        "colab": {
          "base_uri": "https://localhost:8080/"
        },
        "id": "jblqgA18oFah",
        "outputId": "2cbc28c9-4d4d-4626-e79a-7842c8a584b1"
      },
      "outputs": [
        {
          "name": "stderr",
          "output_type": "stream",
          "text": [
            "[nltk_data] Downloading package stopwords to\n",
            "[nltk_data]     C:\\Users\\Federico\\AppData\\Roaming\\nltk_data...\n",
            "[nltk_data]   Unzipping corpora\\stopwords.zip.\n"
          ]
        }
      ],
      "source": [
        "nltk.download('stopwords')\n",
        "STOPWORDS = stopwords.words('english') + ['u', 'ü', 'ur', '4', '2', 'im', 'dont', 'doin', 'ure']\n",
        "\n",
        "def remove_numbers(text):\n",
        "    return re.sub(r'\\d+', '', text)\n",
        "\n",
        "def remove_punctuation(text, punctuation=None):\n",
        "    if punctuation is None:\n",
        "        punctuation = string.punctuation\n",
        "    return text.translate(str.maketrans(punctuation, ' '*len(punctuation)))\n",
        "\n",
        "def remove_stopwords(text, stopwords=None):\n",
        "    if stopwords is None:\n",
        "        stopwords = STOPWORDS\n",
        "    return ' '.join([word for word in text.split() if word not in stopwords])\n",
        "\n",
        "def remove_extra_whitespace(text):\n",
        "    return \" \".join(text.split())"
      ]
    },
    {
      "cell_type": "code",
      "execution_count": 16,
      "metadata": {
        "colab": {
          "base_uri": "https://localhost:8080/",
          "height": 424
        },
        "id": "_j5oorampGo8",
        "outputId": "abeaf9c7-0fdf-42fd-9d3f-a5e983e7ac4c"
      },
      "outputs": [
        {
          "data": {
            "text/html": [
              "<div>\n",
              "<style scoped>\n",
              "    .dataframe tbody tr th:only-of-type {\n",
              "        vertical-align: middle;\n",
              "    }\n",
              "\n",
              "    .dataframe tbody tr th {\n",
              "        vertical-align: top;\n",
              "    }\n",
              "\n",
              "    .dataframe thead th {\n",
              "        text-align: right;\n",
              "    }\n",
              "</style>\n",
              "<table border=\"1\" class=\"dataframe\">\n",
              "  <thead>\n",
              "    <tr style=\"text-align: right;\">\n",
              "      <th></th>\n",
              "      <th>source</th>\n",
              "      <th>date</th>\n",
              "      <th>title</th>\n",
              "      <th>author</th>\n",
              "      <th>text</th>\n",
              "      <th>type_num</th>\n",
              "      <th>text_len</th>\n",
              "      <th>Numero_di_parole</th>\n",
              "    </tr>\n",
              "  </thead>\n",
              "  <tbody>\n",
              "    <tr>\n",
              "      <th>0</th>\n",
              "      <td>Mainichi Shimbun</td>\n",
              "      <td>2021-12-06</td>\n",
              "      <td>Editorial: Japan govt's 20,000-yen handout mis...</td>\n",
              "      <td>NaN</td>\n",
              "      <td>The Japanese government is trying to boost the...</td>\n",
              "      <td>0</td>\n",
              "      <td>3442</td>\n",
              "      <td>567</td>\n",
              "    </tr>\n",
              "    <tr>\n",
              "      <th>1</th>\n",
              "      <td>Mainichi Shimbun</td>\n",
              "      <td>2021-12-07</td>\n",
              "      <td>Editorial: Time for Japan PM Kishida to delive...</td>\n",
              "      <td>NaN</td>\n",
              "      <td>Prime Minister Fumio Kishida, who won a public...</td>\n",
              "      <td>0</td>\n",
              "      <td>3489</td>\n",
              "      <td>540</td>\n",
              "    </tr>\n",
              "    <tr>\n",
              "      <th>2</th>\n",
              "      <td>Mainichi Shimbun</td>\n",
              "      <td>2021-12-08</td>\n",
              "      <td>Editorial: 80 years on from Pearl Harbor, acti...</td>\n",
              "      <td>NaN</td>\n",
              "      <td>It has been 80 years since the start of the Pa...</td>\n",
              "      <td>0</td>\n",
              "      <td>3178</td>\n",
              "      <td>522</td>\n",
              "    </tr>\n",
              "    <tr>\n",
              "      <th>3</th>\n",
              "      <td>Mainichi Shimbun</td>\n",
              "      <td>2021-12-08</td>\n",
              "      <td>Yoroku: 80 years later, many lessons still not...</td>\n",
              "      <td>NaN</td>\n",
              "      <td>\"The world has changed completely. The era was...</td>\n",
              "      <td>0</td>\n",
              "      <td>2823</td>\n",
              "      <td>472</td>\n",
              "    </tr>\n",
              "    <tr>\n",
              "      <th>4</th>\n",
              "      <td>Mainichi Shimbun</td>\n",
              "      <td>2021-12-08</td>\n",
              "      <td>Promoting respect for human rights behind US '...</td>\n",
              "      <td>NaN</td>\n",
              "      <td>The U.S. administration under President Joe Bi...</td>\n",
              "      <td>0</td>\n",
              "      <td>3841</td>\n",
              "      <td>620</td>\n",
              "    </tr>\n",
              "    <tr>\n",
              "      <th>...</th>\n",
              "      <td>...</td>\n",
              "      <td>...</td>\n",
              "      <td>...</td>\n",
              "      <td>...</td>\n",
              "      <td>...</td>\n",
              "      <td>...</td>\n",
              "      <td>...</td>\n",
              "      <td>...</td>\n",
              "    </tr>\n",
              "    <tr>\n",
              "      <th>36884</th>\n",
              "      <td>The Japan Times</td>\n",
              "      <td>2021-06-06</td>\n",
              "      <td>COVID-19 tracker: Tokyo reports 351 new cases ...</td>\n",
              "      <td>NaN</td>\n",
              "      <td>Tokyo confirmed 351 new cases of COVID-19 on S...</td>\n",
              "      <td>1</td>\n",
              "      <td>567</td>\n",
              "      <td>88</td>\n",
              "    </tr>\n",
              "    <tr>\n",
              "      <th>36885</th>\n",
              "      <td>The Japan Times</td>\n",
              "      <td>2021-06-07</td>\n",
              "      <td>Dollar weakens to around ¥109.40 in Tokyo</td>\n",
              "      <td>NaN</td>\n",
              "      <td>The dollar eased to around ¥109.40 in Tokyo tr...</td>\n",
              "      <td>1</td>\n",
              "      <td>591</td>\n",
              "      <td>100</td>\n",
              "    </tr>\n",
              "    <tr>\n",
              "      <th>36886</th>\n",
              "      <td>The Japan Times</td>\n",
              "      <td>2021-06-07</td>\n",
              "      <td>Nikkei ends higher, but gains limited</td>\n",
              "      <td>NaN</td>\n",
              "      <td>The benchmark Nikkei average turned higher on ...</td>\n",
              "      <td>1</td>\n",
              "      <td>637</td>\n",
              "      <td>108</td>\n",
              "    </tr>\n",
              "    <tr>\n",
              "      <th>36887</th>\n",
              "      <td>The Japan Times</td>\n",
              "      <td>2021-06-07</td>\n",
              "      <td>COVID-19 tracker: Osaka reports 72 new cases b...</td>\n",
              "      <td>NaN</td>\n",
              "      <td>Osaka Prefecture reported 72 new COVID-19 case...</td>\n",
              "      <td>1</td>\n",
              "      <td>729</td>\n",
              "      <td>118</td>\n",
              "    </tr>\n",
              "    <tr>\n",
              "      <th>36888</th>\n",
              "      <td>The Japan Times</td>\n",
              "      <td>2021-06-07</td>\n",
              "      <td>Listen up, Odairi the cat has something to say</td>\n",
              "      <td>NaN</td>\n",
              "      <td>If you were around in the early 1960s, you wil...</td>\n",
              "      <td>1</td>\n",
              "      <td>834</td>\n",
              "      <td>150</td>\n",
              "    </tr>\n",
              "  </tbody>\n",
              "</table>\n",
              "<p>35292 rows × 8 columns</p>\n",
              "</div>"
            ],
            "text/plain": [
              "                 source        date  \\\n",
              "0      Mainichi Shimbun  2021-12-06   \n",
              "1      Mainichi Shimbun  2021-12-07   \n",
              "2      Mainichi Shimbun  2021-12-08   \n",
              "3      Mainichi Shimbun  2021-12-08   \n",
              "4      Mainichi Shimbun  2021-12-08   \n",
              "...                 ...         ...   \n",
              "36884   The Japan Times  2021-06-06   \n",
              "36885   The Japan Times  2021-06-07   \n",
              "36886   The Japan Times  2021-06-07   \n",
              "36887   The Japan Times  2021-06-07   \n",
              "36888   The Japan Times  2021-06-07   \n",
              "\n",
              "                                                   title author  \\\n",
              "0      Editorial: Japan govt's 20,000-yen handout mis...    NaN   \n",
              "1      Editorial: Time for Japan PM Kishida to delive...    NaN   \n",
              "2      Editorial: 80 years on from Pearl Harbor, acti...    NaN   \n",
              "3      Yoroku: 80 years later, many lessons still not...    NaN   \n",
              "4      Promoting respect for human rights behind US '...    NaN   \n",
              "...                                                  ...    ...   \n",
              "36884  COVID-19 tracker: Tokyo reports 351 new cases ...    NaN   \n",
              "36885          Dollar weakens to around ¥109.40 in Tokyo    NaN   \n",
              "36886              Nikkei ends higher, but gains limited    NaN   \n",
              "36887  COVID-19 tracker: Osaka reports 72 new cases b...    NaN   \n",
              "36888     Listen up, Odairi the cat has something to say    NaN   \n",
              "\n",
              "                                                    text  type_num  text_len  \\\n",
              "0      The Japanese government is trying to boost the...         0      3442   \n",
              "1      Prime Minister Fumio Kishida, who won a public...         0      3489   \n",
              "2      It has been 80 years since the start of the Pa...         0      3178   \n",
              "3      \"The world has changed completely. The era was...         0      2823   \n",
              "4      The U.S. administration under President Joe Bi...         0      3841   \n",
              "...                                                  ...       ...       ...   \n",
              "36884  Tokyo confirmed 351 new cases of COVID-19 on S...         1       567   \n",
              "36885  The dollar eased to around ¥109.40 in Tokyo tr...         1       591   \n",
              "36886  The benchmark Nikkei average turned higher on ...         1       637   \n",
              "36887  Osaka Prefecture reported 72 new COVID-19 case...         1       729   \n",
              "36888  If you were around in the early 1960s, you wil...         1       834   \n",
              "\n",
              "       Numero_di_parole  \n",
              "0                   567  \n",
              "1                   540  \n",
              "2                   522  \n",
              "3                   472  \n",
              "4                   620  \n",
              "...                 ...  \n",
              "36884                88  \n",
              "36885               100  \n",
              "36886               108  \n",
              "36887               118  \n",
              "36888               150  \n",
              "\n",
              "[35292 rows x 8 columns]"
            ]
          },
          "execution_count": 16,
          "metadata": {},
          "output_type": "execute_result"
        }
      ],
      "source": [
        "df_clean"
      ]
    },
    {
      "cell_type": "code",
      "execution_count": 17,
      "metadata": {
        "id": "HZClfkOhpC1W"
      },
      "outputs": [
        {
          "name": "stderr",
          "output_type": "stream",
          "text": [
            "<ipython-input-17-0f37e50a7a5c>:1: SettingWithCopyWarning:\n",
            "\n",
            "\n",
            "A value is trying to be set on a copy of a slice from a DataFrame.\n",
            "Try using .loc[row_indexer,col_indexer] = value instead\n",
            "\n",
            "See the caveats in the documentation: https://pandas.pydata.org/pandas-docs/stable/user_guide/indexing.html#returning-a-view-versus-a-copy\n",
            "\n",
            "<ipython-input-17-0f37e50a7a5c>:2: SettingWithCopyWarning:\n",
            "\n",
            "\n",
            "A value is trying to be set on a copy of a slice from a DataFrame.\n",
            "Try using .loc[row_indexer,col_indexer] = value instead\n",
            "\n",
            "See the caveats in the documentation: https://pandas.pydata.org/pandas-docs/stable/user_guide/indexing.html#returning-a-view-versus-a-copy\n",
            "\n",
            "<ipython-input-17-0f37e50a7a5c>:3: SettingWithCopyWarning:\n",
            "\n",
            "\n",
            "A value is trying to be set on a copy of a slice from a DataFrame.\n",
            "Try using .loc[row_indexer,col_indexer] = value instead\n",
            "\n",
            "See the caveats in the documentation: https://pandas.pydata.org/pandas-docs/stable/user_guide/indexing.html#returning-a-view-versus-a-copy\n",
            "\n",
            "<ipython-input-17-0f37e50a7a5c>:4: SettingWithCopyWarning:\n",
            "\n",
            "\n",
            "A value is trying to be set on a copy of a slice from a DataFrame.\n",
            "Try using .loc[row_indexer,col_indexer] = value instead\n",
            "\n",
            "See the caveats in the documentation: https://pandas.pydata.org/pandas-docs/stable/user_guide/indexing.html#returning-a-view-versus-a-copy\n",
            "\n",
            "<ipython-input-17-0f37e50a7a5c>:5: SettingWithCopyWarning:\n",
            "\n",
            "\n",
            "A value is trying to be set on a copy of a slice from a DataFrame.\n",
            "Try using .loc[row_indexer,col_indexer] = value instead\n",
            "\n",
            "See the caveats in the documentation: https://pandas.pydata.org/pandas-docs/stable/user_guide/indexing.html#returning-a-view-versus-a-copy\n",
            "\n"
          ]
        }
      ],
      "source": [
        "df_clean[\"clean_text\"] = df_clean.text.str.lower()\n",
        "df_clean['clean_text'] = df_clean.clean_text.apply(remove_numbers)\n",
        "df_clean['clean_text'] = df_clean.clean_text.apply(remove_punctuation)\n",
        "df_clean['clean_text'] = df_clean.clean_text.apply(remove_stopwords)\n",
        "df_clean['clean_text'] = df_clean.clean_text.apply(remove_extra_whitespace)"
      ]
    },
    {
      "cell_type": "markdown",
      "metadata": {
        "id": "OvBoDiuDqg-n"
      },
      "source": [
        "# STEMMING"
      ]
    },
    {
      "cell_type": "code",
      "execution_count": 18,
      "metadata": {
        "id": "IrF5A73YpTAe"
      },
      "outputs": [],
      "source": [
        "stemmer = nltk.SnowballStemmer(\"english\")\n",
        "\n",
        "def stemm_text(text):\n",
        "    text = ' '.join(stemmer.stem(word) for word in text.split(' '))\n",
        "    return text"
      ]
    },
    {
      "cell_type": "code",
      "execution_count": 19,
      "metadata": {
        "colab": {
          "base_uri": "https://localhost:8080/",
          "height": 345
        },
        "id": "drZK6E9-qUVw",
        "outputId": "f22c57de-0b17-4175-808d-ba85a09d02de"
      },
      "outputs": [
        {
          "name": "stderr",
          "output_type": "stream",
          "text": [
            "<ipython-input-19-546bed8bc651>:1: SettingWithCopyWarning:\n",
            "\n",
            "\n",
            "A value is trying to be set on a copy of a slice from a DataFrame.\n",
            "Try using .loc[row_indexer,col_indexer] = value instead\n",
            "\n",
            "See the caveats in the documentation: https://pandas.pydata.org/pandas-docs/stable/user_guide/indexing.html#returning-a-view-versus-a-copy\n",
            "\n"
          ]
        },
        {
          "data": {
            "text/html": [
              "<div>\n",
              "<style scoped>\n",
              "    .dataframe tbody tr th:only-of-type {\n",
              "        vertical-align: middle;\n",
              "    }\n",
              "\n",
              "    .dataframe tbody tr th {\n",
              "        vertical-align: top;\n",
              "    }\n",
              "\n",
              "    .dataframe thead th {\n",
              "        text-align: right;\n",
              "    }\n",
              "</style>\n",
              "<table border=\"1\" class=\"dataframe\">\n",
              "  <thead>\n",
              "    <tr style=\"text-align: right;\">\n",
              "      <th></th>\n",
              "      <th>source</th>\n",
              "      <th>date</th>\n",
              "      <th>title</th>\n",
              "      <th>author</th>\n",
              "      <th>text</th>\n",
              "      <th>type_num</th>\n",
              "      <th>text_len</th>\n",
              "      <th>Numero_di_parole</th>\n",
              "      <th>clean_text</th>\n",
              "    </tr>\n",
              "  </thead>\n",
              "  <tbody>\n",
              "    <tr>\n",
              "      <th>0</th>\n",
              "      <td>Mainichi Shimbun</td>\n",
              "      <td>2021-12-06</td>\n",
              "      <td>Editorial: Japan govt's 20,000-yen handout mis...</td>\n",
              "      <td>NaN</td>\n",
              "      <td>The Japanese government is trying to boost the...</td>\n",
              "      <td>0</td>\n",
              "      <td>3442</td>\n",
              "      <td>567</td>\n",
              "      <td>japanes govern tri boost uptak number person i...</td>\n",
              "    </tr>\n",
              "    <tr>\n",
              "      <th>1</th>\n",
              "      <td>Mainichi Shimbun</td>\n",
              "      <td>2021-12-07</td>\n",
              "      <td>Editorial: Time for Japan PM Kishida to delive...</td>\n",
              "      <td>NaN</td>\n",
              "      <td>Prime Minister Fumio Kishida, who won a public...</td>\n",
              "      <td>0</td>\n",
              "      <td>3489</td>\n",
              "      <td>540</td>\n",
              "      <td>prime minist fumio kishida public mandat admin...</td>\n",
              "    </tr>\n",
              "    <tr>\n",
              "      <th>2</th>\n",
              "      <td>Mainichi Shimbun</td>\n",
              "      <td>2021-12-08</td>\n",
              "      <td>Editorial: 80 years on from Pearl Harbor, acti...</td>\n",
              "      <td>NaN</td>\n",
              "      <td>It has been 80 years since the start of the Pa...</td>\n",
              "      <td>0</td>\n",
              "      <td>3178</td>\n",
              "      <td>522</td>\n",
              "      <td>year sinc start pacif war imperi japanes milit...</td>\n",
              "    </tr>\n",
              "    <tr>\n",
              "      <th>3</th>\n",
              "      <td>Mainichi Shimbun</td>\n",
              "      <td>2021-12-08</td>\n",
              "      <td>Yoroku: 80 years later, many lessons still not...</td>\n",
              "      <td>NaN</td>\n",
              "      <td>\"The world has changed completely. The era was...</td>\n",
              "      <td>0</td>\n",
              "      <td>2823</td>\n",
              "      <td>472</td>\n",
              "      <td>world chang complet era enorm sever came yeste...</td>\n",
              "    </tr>\n",
              "    <tr>\n",
              "      <th>4</th>\n",
              "      <td>Mainichi Shimbun</td>\n",
              "      <td>2021-12-08</td>\n",
              "      <td>Promoting respect for human rights behind US '...</td>\n",
              "      <td>NaN</td>\n",
              "      <td>The U.S. administration under President Joe Bi...</td>\n",
              "      <td>0</td>\n",
              "      <td>3841</td>\n",
              "      <td>620</td>\n",
              "      <td>administr presid joe biden decid diplomat boyc...</td>\n",
              "    </tr>\n",
              "  </tbody>\n",
              "</table>\n",
              "</div>"
            ],
            "text/plain": [
              "             source        date  \\\n",
              "0  Mainichi Shimbun  2021-12-06   \n",
              "1  Mainichi Shimbun  2021-12-07   \n",
              "2  Mainichi Shimbun  2021-12-08   \n",
              "3  Mainichi Shimbun  2021-12-08   \n",
              "4  Mainichi Shimbun  2021-12-08   \n",
              "\n",
              "                                               title author  \\\n",
              "0  Editorial: Japan govt's 20,000-yen handout mis...    NaN   \n",
              "1  Editorial: Time for Japan PM Kishida to delive...    NaN   \n",
              "2  Editorial: 80 years on from Pearl Harbor, acti...    NaN   \n",
              "3  Yoroku: 80 years later, many lessons still not...    NaN   \n",
              "4  Promoting respect for human rights behind US '...    NaN   \n",
              "\n",
              "                                                text  type_num  text_len  \\\n",
              "0  The Japanese government is trying to boost the...         0      3442   \n",
              "1  Prime Minister Fumio Kishida, who won a public...         0      3489   \n",
              "2  It has been 80 years since the start of the Pa...         0      3178   \n",
              "3  \"The world has changed completely. The era was...         0      2823   \n",
              "4  The U.S. administration under President Joe Bi...         0      3841   \n",
              "\n",
              "   Numero_di_parole                                         clean_text  \n",
              "0               567  japanes govern tri boost uptak number person i...  \n",
              "1               540  prime minist fumio kishida public mandat admin...  \n",
              "2               522  year sinc start pacif war imperi japanes milit...  \n",
              "3               472  world chang complet era enorm sever came yeste...  \n",
              "4               620  administr presid joe biden decid diplomat boyc...  "
            ]
          },
          "execution_count": 19,
          "metadata": {},
          "output_type": "execute_result"
        }
      ],
      "source": [
        "df_clean['clean_text'] = df_clean['clean_text'].apply(stemm_text)\n",
        "df_clean.head()"
      ]
    },
    {
      "cell_type": "markdown",
      "metadata": {
        "id": "XJWHJiwVqjEv"
      },
      "source": [
        "# TOKEN"
      ]
    },
    {
      "cell_type": "code",
      "execution_count": 20,
      "metadata": {
        "colab": {
          "base_uri": "https://localhost:8080/",
          "height": 754
        },
        "id": "j1zW82HlqYFy",
        "outputId": "c31429d1-fea2-4760-fe97-5fa8e32d2649"
      },
      "outputs": [
        {
          "name": "stderr",
          "output_type": "stream",
          "text": [
            "<ipython-input-20-f8e022877fbc>:1: SettingWithCopyWarning:\n",
            "\n",
            "\n",
            "A value is trying to be set on a copy of a slice from a DataFrame.\n",
            "Try using .loc[row_indexer,col_indexer] = value instead\n",
            "\n",
            "See the caveats in the documentation: https://pandas.pydata.org/pandas-docs/stable/user_guide/indexing.html#returning-a-view-versus-a-copy\n",
            "\n"
          ]
        },
        {
          "data": {
            "text/html": [
              "<div>\n",
              "<style scoped>\n",
              "    .dataframe tbody tr th:only-of-type {\n",
              "        vertical-align: middle;\n",
              "    }\n",
              "\n",
              "    .dataframe tbody tr th {\n",
              "        vertical-align: top;\n",
              "    }\n",
              "\n",
              "    .dataframe thead th {\n",
              "        text-align: right;\n",
              "    }\n",
              "</style>\n",
              "<table border=\"1\" class=\"dataframe\">\n",
              "  <thead>\n",
              "    <tr style=\"text-align: right;\">\n",
              "      <th></th>\n",
              "      <th>source</th>\n",
              "      <th>date</th>\n",
              "      <th>title</th>\n",
              "      <th>author</th>\n",
              "      <th>text</th>\n",
              "      <th>type_num</th>\n",
              "      <th>text_len</th>\n",
              "      <th>Numero_di_parole</th>\n",
              "      <th>clean_text</th>\n",
              "      <th>tokens</th>\n",
              "    </tr>\n",
              "  </thead>\n",
              "  <tbody>\n",
              "    <tr>\n",
              "      <th>0</th>\n",
              "      <td>Mainichi Shimbun</td>\n",
              "      <td>2021-12-06</td>\n",
              "      <td>Editorial: Japan govt's 20,000-yen handout mis...</td>\n",
              "      <td>NaN</td>\n",
              "      <td>The Japanese government is trying to boost the...</td>\n",
              "      <td>0</td>\n",
              "      <td>3442</td>\n",
              "      <td>567</td>\n",
              "      <td>japanes govern tri boost uptak number person i...</td>\n",
              "      <td>[japanes, govern, tri, boost, uptak, number, p...</td>\n",
              "    </tr>\n",
              "    <tr>\n",
              "      <th>1</th>\n",
              "      <td>Mainichi Shimbun</td>\n",
              "      <td>2021-12-07</td>\n",
              "      <td>Editorial: Time for Japan PM Kishida to delive...</td>\n",
              "      <td>NaN</td>\n",
              "      <td>Prime Minister Fumio Kishida, who won a public...</td>\n",
              "      <td>0</td>\n",
              "      <td>3489</td>\n",
              "      <td>540</td>\n",
              "      <td>prime minist fumio kishida public mandat admin...</td>\n",
              "      <td>[prime, minist, fumio, kishida, public, mandat...</td>\n",
              "    </tr>\n",
              "    <tr>\n",
              "      <th>2</th>\n",
              "      <td>Mainichi Shimbun</td>\n",
              "      <td>2021-12-08</td>\n",
              "      <td>Editorial: 80 years on from Pearl Harbor, acti...</td>\n",
              "      <td>NaN</td>\n",
              "      <td>It has been 80 years since the start of the Pa...</td>\n",
              "      <td>0</td>\n",
              "      <td>3178</td>\n",
              "      <td>522</td>\n",
              "      <td>year sinc start pacif war imperi japanes milit...</td>\n",
              "      <td>[year, sinc, start, pacif, war, imperi, japane...</td>\n",
              "    </tr>\n",
              "    <tr>\n",
              "      <th>3</th>\n",
              "      <td>Mainichi Shimbun</td>\n",
              "      <td>2021-12-08</td>\n",
              "      <td>Yoroku: 80 years later, many lessons still not...</td>\n",
              "      <td>NaN</td>\n",
              "      <td>\"The world has changed completely. The era was...</td>\n",
              "      <td>0</td>\n",
              "      <td>2823</td>\n",
              "      <td>472</td>\n",
              "      <td>world chang complet era enorm sever came yeste...</td>\n",
              "      <td>[world, chang, complet, era, enorm, sever, cam...</td>\n",
              "    </tr>\n",
              "    <tr>\n",
              "      <th>4</th>\n",
              "      <td>Mainichi Shimbun</td>\n",
              "      <td>2021-12-08</td>\n",
              "      <td>Promoting respect for human rights behind US '...</td>\n",
              "      <td>NaN</td>\n",
              "      <td>The U.S. administration under President Joe Bi...</td>\n",
              "      <td>0</td>\n",
              "      <td>3841</td>\n",
              "      <td>620</td>\n",
              "      <td>administr presid joe biden decid diplomat boyc...</td>\n",
              "      <td>[administr, presid, joe, biden, decid, diploma...</td>\n",
              "    </tr>\n",
              "    <tr>\n",
              "      <th>...</th>\n",
              "      <td>...</td>\n",
              "      <td>...</td>\n",
              "      <td>...</td>\n",
              "      <td>...</td>\n",
              "      <td>...</td>\n",
              "      <td>...</td>\n",
              "      <td>...</td>\n",
              "      <td>...</td>\n",
              "      <td>...</td>\n",
              "      <td>...</td>\n",
              "    </tr>\n",
              "    <tr>\n",
              "      <th>36884</th>\n",
              "      <td>The Japan Times</td>\n",
              "      <td>2021-06-06</td>\n",
              "      <td>COVID-19 tracker: Tokyo reports 351 new cases ...</td>\n",
              "      <td>NaN</td>\n",
              "      <td>Tokyo confirmed 351 new cases of COVID-19 on S...</td>\n",
              "      <td>1</td>\n",
              "      <td>567</td>\n",
              "      <td>88</td>\n",
              "      <td>tokyo confirm new case covid sunday hard hit o...</td>\n",
              "      <td>[tokyo, confirm, new, case, covid, sunday, har...</td>\n",
              "    </tr>\n",
              "    <tr>\n",
              "      <th>36885</th>\n",
              "      <td>The Japan Times</td>\n",
              "      <td>2021-06-07</td>\n",
              "      <td>Dollar weakens to around ¥109.40 in Tokyo</td>\n",
              "      <td>NaN</td>\n",
              "      <td>The dollar eased to around ¥109.40 in Tokyo tr...</td>\n",
              "      <td>1</td>\n",
              "      <td>591</td>\n",
              "      <td>100</td>\n",
              "      <td>dollar eas around ¥ tokyo trade monday search ...</td>\n",
              "      <td>[dollar, eas, around, ¥, tokyo, trade, monday,...</td>\n",
              "    </tr>\n",
              "    <tr>\n",
              "      <th>36886</th>\n",
              "      <td>The Japan Times</td>\n",
              "      <td>2021-06-07</td>\n",
              "      <td>Nikkei ends higher, but gains limited</td>\n",
              "      <td>NaN</td>\n",
              "      <td>The benchmark Nikkei average turned higher on ...</td>\n",
              "      <td>1</td>\n",
              "      <td>637</td>\n",
              "      <td>108</td>\n",
              "      <td>benchmark nikkei averag turn higher monday tha...</td>\n",
              "      <td>[benchmark, nikkei, averag, turn, higher, mond...</td>\n",
              "    </tr>\n",
              "    <tr>\n",
              "      <th>36887</th>\n",
              "      <td>The Japan Times</td>\n",
              "      <td>2021-06-07</td>\n",
              "      <td>COVID-19 tracker: Osaka reports 72 new cases b...</td>\n",
              "      <td>NaN</td>\n",
              "      <td>Osaka Prefecture reported 72 new COVID-19 case...</td>\n",
              "      <td>1</td>\n",
              "      <td>729</td>\n",
              "      <td>118</td>\n",
              "      <td>osaka prefectur report new covid case monday f...</td>\n",
              "      <td>[osaka, prefectur, report, new, covid, case, m...</td>\n",
              "    </tr>\n",
              "    <tr>\n",
              "      <th>36888</th>\n",
              "      <td>The Japan Times</td>\n",
              "      <td>2021-06-07</td>\n",
              "      <td>Listen up, Odairi the cat has something to say</td>\n",
              "      <td>NaN</td>\n",
              "      <td>If you were around in the early 1960s, you wil...</td>\n",
              "      <td>1</td>\n",
              "      <td>834</td>\n",
              "      <td>150</td>\n",
              "      <td>around earli sure rememb doll name chatti cath...</td>\n",
              "      <td>[around, earli, sure, rememb, doll, name, chat...</td>\n",
              "    </tr>\n",
              "  </tbody>\n",
              "</table>\n",
              "<p>35292 rows × 10 columns</p>\n",
              "</div>"
            ],
            "text/plain": [
              "                 source        date  \\\n",
              "0      Mainichi Shimbun  2021-12-06   \n",
              "1      Mainichi Shimbun  2021-12-07   \n",
              "2      Mainichi Shimbun  2021-12-08   \n",
              "3      Mainichi Shimbun  2021-12-08   \n",
              "4      Mainichi Shimbun  2021-12-08   \n",
              "...                 ...         ...   \n",
              "36884   The Japan Times  2021-06-06   \n",
              "36885   The Japan Times  2021-06-07   \n",
              "36886   The Japan Times  2021-06-07   \n",
              "36887   The Japan Times  2021-06-07   \n",
              "36888   The Japan Times  2021-06-07   \n",
              "\n",
              "                                                   title author  \\\n",
              "0      Editorial: Japan govt's 20,000-yen handout mis...    NaN   \n",
              "1      Editorial: Time for Japan PM Kishida to delive...    NaN   \n",
              "2      Editorial: 80 years on from Pearl Harbor, acti...    NaN   \n",
              "3      Yoroku: 80 years later, many lessons still not...    NaN   \n",
              "4      Promoting respect for human rights behind US '...    NaN   \n",
              "...                                                  ...    ...   \n",
              "36884  COVID-19 tracker: Tokyo reports 351 new cases ...    NaN   \n",
              "36885          Dollar weakens to around ¥109.40 in Tokyo    NaN   \n",
              "36886              Nikkei ends higher, but gains limited    NaN   \n",
              "36887  COVID-19 tracker: Osaka reports 72 new cases b...    NaN   \n",
              "36888     Listen up, Odairi the cat has something to say    NaN   \n",
              "\n",
              "                                                    text  type_num  text_len  \\\n",
              "0      The Japanese government is trying to boost the...         0      3442   \n",
              "1      Prime Minister Fumio Kishida, who won a public...         0      3489   \n",
              "2      It has been 80 years since the start of the Pa...         0      3178   \n",
              "3      \"The world has changed completely. The era was...         0      2823   \n",
              "4      The U.S. administration under President Joe Bi...         0      3841   \n",
              "...                                                  ...       ...       ...   \n",
              "36884  Tokyo confirmed 351 new cases of COVID-19 on S...         1       567   \n",
              "36885  The dollar eased to around ¥109.40 in Tokyo tr...         1       591   \n",
              "36886  The benchmark Nikkei average turned higher on ...         1       637   \n",
              "36887  Osaka Prefecture reported 72 new COVID-19 case...         1       729   \n",
              "36888  If you were around in the early 1960s, you wil...         1       834   \n",
              "\n",
              "       Numero_di_parole                                         clean_text  \\\n",
              "0                   567  japanes govern tri boost uptak number person i...   \n",
              "1                   540  prime minist fumio kishida public mandat admin...   \n",
              "2                   522  year sinc start pacif war imperi japanes milit...   \n",
              "3                   472  world chang complet era enorm sever came yeste...   \n",
              "4                   620  administr presid joe biden decid diplomat boyc...   \n",
              "...                 ...                                                ...   \n",
              "36884                88  tokyo confirm new case covid sunday hard hit o...   \n",
              "36885               100  dollar eas around ¥ tokyo trade monday search ...   \n",
              "36886               108  benchmark nikkei averag turn higher monday tha...   \n",
              "36887               118  osaka prefectur report new covid case monday f...   \n",
              "36888               150  around earli sure rememb doll name chatti cath...   \n",
              "\n",
              "                                                  tokens  \n",
              "0      [japanes, govern, tri, boost, uptak, number, p...  \n",
              "1      [prime, minist, fumio, kishida, public, mandat...  \n",
              "2      [year, sinc, start, pacif, war, imperi, japane...  \n",
              "3      [world, chang, complet, era, enorm, sever, cam...  \n",
              "4      [administr, presid, joe, biden, decid, diploma...  \n",
              "...                                                  ...  \n",
              "36884  [tokyo, confirm, new, case, covid, sunday, har...  \n",
              "36885  [dollar, eas, around, ¥, tokyo, trade, monday,...  \n",
              "36886  [benchmark, nikkei, averag, turn, higher, mond...  \n",
              "36887  [osaka, prefectur, report, new, covid, case, m...  \n",
              "36888  [around, earli, sure, rememb, doll, name, chat...  \n",
              "\n",
              "[35292 rows x 10 columns]"
            ]
          },
          "execution_count": 20,
          "metadata": {},
          "output_type": "execute_result"
        }
      ],
      "source": [
        "df_clean[\"tokens\"] = df_clean.clean_text.str.split()\n",
        "df_clean"
      ]
    },
    {
      "cell_type": "code",
      "execution_count": 21,
      "metadata": {
        "colab": {
          "base_uri": "https://localhost:8080/"
        },
        "id": "UiZAbU4xq_Ft",
        "outputId": "374855ee-bbcc-446b-e941-d82d5ebe84ac"
      },
      "outputs": [
        {
          "name": "stdout",
          "output_type": "stream",
          "text": [
            "[('pleas', 70580), ('co', 38275), ('issu', 37079), ('secur', 36948), ('could', 36937), ('support', 36754), ('due', 36315), ('allow', 36287), ('see', 36241), ('list', 35879), ('ad', 35868), ('site', 35857), ('conflict', 35526), ('resolv', 35467), ('apolog', 35448), ('page', 35444), ('softwar', 35430), ('unabl', 35414), ('block', 35408), ('add', 35383), ('humbl', 35278), ('domain', 35271), ('inconveni', 35262), ('addjapantim', 35246), ('jpandpiano', 35246), ('ioto', 35246), ('allowlist', 35246), ('outthi', 35246), ('said', 19092), ('japan', 15284), ('year', 14402), ('—', 11080), ('”', 9514), ('japanes', 8096), ('tokyo', 7269), ('govern', 6645), ('new', 6574), ('first', 6479), ('one', 6142), ('two', 6091), ('yen', 5629), ('offici', 5593), ('world', 5352), ('minist', 5171), ('nation', 5162), ('time', 4637), ('prefectur', 4472), ('percent', 4455), ('last', 4379), ('friday', 4164)]\n"
          ]
        }
      ],
      "source": [
        "from collections import Counter\n",
        "\n",
        "words = df_clean[df_clean.source=='The Japan Times'].clean_text.apply(lambda x: [word.lower() for word in x.split()])\n",
        "The_Japan_Times = Counter()\n",
        "\n",
        "for msg in words:\n",
        "    The_Japan_Times.update(msg)\n",
        "\n",
        "print(The_Japan_Times.most_common(50))"
      ]
    },
    {
      "cell_type": "code",
      "execution_count": 22,
      "metadata": {
        "colab": {
          "base_uri": "https://localhost:8080/"
        },
        "id": "QnSyFzu1rKug",
        "outputId": "52537bba-5a31-429c-ae7a-614c192b551d"
      },
      "outputs": [
        {
          "name": "stdout",
          "output_type": "stream",
          "text": [
            "[('said', 185), ('year', 148), ('govern', 135), ('japan', 122), ('time', 114), ('peopl', 112), ('would', 109), ('also', 98), ('first', 92), ('countri', 89), ('one', 87), ('parti', 86), ('presid', 84), ('includ', 76), ('die', 76), ('south', 73), ('state', 72), ('new', 69), ('work', 69), ('nation', 63), ('famili', 60), ('two', 59), ('public', 58), ('world', 58), ('polit', 58), ('watt', 58), ('minist', 57), ('made', 56), ('member', 56), ('call', 55), ('japanes', 54), ('mani', 53), ('like', 53), ('olymp', 53), ('de', 51), ('could', 49), ('death', 49), ('play', 49), ('make', 48), ('later', 46), ('need', 45), ('prime', 45), ('use', 44), ('power', 44), ('right', 44), ('game', 44), ('war', 43), ('becam', 43), ('ever', 43), ('take', 42)]\n"
          ]
        }
      ],
      "source": [
        "from collections import Counter\n",
        "\n",
        "words = df_clean[df_clean.source=='Mainichi Shimbun'].clean_text.apply(lambda x: [word.lower() for word in x.split()])\n",
        "Mainichi_Shimbun= Counter()\n",
        "\n",
        "for msg in words:\n",
        "    Mainichi_Shimbun.update(msg)\n",
        "\n",
        "print(Mainichi_Shimbun.most_common(50))"
      ]
    },
    {
      "cell_type": "markdown",
      "metadata": {
        "id": "BEOcE6JMsXfG"
      },
      "source": [
        "# text representation"
      ]
    },
    {
      "cell_type": "code",
      "execution_count": 23,
      "metadata": {
        "colab": {
          "base_uri": "https://localhost:8080/"
        },
        "id": "Z_jrExE-sE89",
        "outputId": "942ad23f-6871-41a5-c1fe-2c9996cecb1c"
      },
      "outputs": [
        {
          "name": "stdout",
          "output_type": "stream",
          "text": [
            "(35292,)\n",
            "(35292,)\n"
          ]
        }
      ],
      "source": [
        "x = df_clean.clean_text\n",
        "y = df_clean.type_num\n",
        "print(x.shape)\n",
        "print(y.shape)"
      ]
    },
    {
      "cell_type": "markdown",
      "metadata": {
        "id": "gxo2HST9s2Je"
      },
      "source": [
        "## bag of words"
      ]
    },
    {
      "cell_type": "code",
      "execution_count": 24,
      "metadata": {
        "colab": {
          "base_uri": "https://localhost:8080/"
        },
        "id": "lYviRXPcs3v9",
        "outputId": "7ad805a5-3997-4357-eb65-771406caab77"
      },
      "outputs": [
        {
          "data": {
            "text/plain": [
              "<35292x30000 sparse matrix of type '<class 'numpy.int64'>'\n",
              "\twith 2413249 stored elements in Compressed Sparse Row format>"
            ]
          },
          "execution_count": 24,
          "metadata": {},
          "output_type": "execute_result"
        }
      ],
      "source": [
        "vect = CountVectorizer(max_features=30000)\n",
        "X_bow = vect.fit_transform(df_clean['clean_text'])\n",
        "X_bow"
      ]
    },
    {
      "cell_type": "markdown",
      "metadata": {
        "id": "LXImJW8xtF4O"
      },
      "source": [
        "## Binary"
      ]
    },
    {
      "cell_type": "code",
      "execution_count": 25,
      "metadata": {
        "colab": {
          "base_uri": "https://localhost:8080/"
        },
        "id": "gG-dj8yis_45",
        "outputId": "08bc061c-7ec0-4ca8-9277-947e615b5bd7"
      },
      "outputs": [
        {
          "data": {
            "text/plain": [
              "<35292x46381 sparse matrix of type '<class 'numpy.int64'>'\n",
              "\twith 2429630 stored elements in Compressed Sparse Row format>"
            ]
          },
          "execution_count": 25,
          "metadata": {},
          "output_type": "execute_result"
        }
      ],
      "source": [
        "vect = CountVectorizer(binary = True)\n",
        "X_bin = vect.fit_transform(df_clean['clean_text'])\n",
        "X_bin"
      ]
    },
    {
      "cell_type": "markdown",
      "metadata": {
        "id": "AazymW6dtKGA"
      },
      "source": [
        "## TF - IDF"
      ]
    },
    {
      "cell_type": "code",
      "execution_count": 26,
      "metadata": {
        "colab": {
          "base_uri": "https://localhost:8080/"
        },
        "id": "J-W-Hdc7tIxO",
        "outputId": "e2989cf6-76b6-4628-f8e5-0f9234913c28"
      },
      "outputs": [
        {
          "data": {
            "text/plain": [
              "<35292x10000 sparse matrix of type '<class 'numpy.float64'>'\n",
              "\twith 2351824 stored elements in Compressed Sparse Row format>"
            ]
          },
          "execution_count": 26,
          "metadata": {},
          "output_type": "execute_result"
        }
      ],
      "source": [
        "vect = TfidfVectorizer(max_features=10000)\n",
        "X_tfidf = vect.fit_transform(df_clean['clean_text'])\n",
        "X_tfidf"
      ]
    },
    {
      "cell_type": "code",
      "execution_count": 27,
      "metadata": {
        "id": "ebYKIR3Ftcru"
      },
      "outputs": [],
      "source": [
        "def classification_SVM(X, score, txt_rep):\n",
        "    X_train, X_test, y_train, y_test = train_test_split(X,  # Text dataset\n",
        "                                                        score,  # score set\n",
        "                                                        test_size=0.30,  # split size\n",
        "                                                        random_state=50)  #  set seed\n",
        "    clf = SVC().fit(X_train, y_train)  #  SVM\n",
        "    y_pred = clf.predict(X_test)\n",
        "    print('SVM ' + txt_rep)\n",
        "    print(classification_report(y_test, y_pred))  #  report\n",
        "    return 0"
      ]
    },
    {
      "cell_type": "code",
      "execution_count": 28,
      "metadata": {
        "id": "L7Sk-CixtRAE"
      },
      "outputs": [],
      "source": [
        "def SVD(x):\n",
        "    svd_decomposer = TruncatedSVD(n_components=100,\n",
        "                                  n_iter=10)\n",
        "    df = svd_decomposer.fit_transform(x)\n",
        "    return df"
      ]
    },
    {
      "cell_type": "code",
      "execution_count": 29,
      "metadata": {
        "id": "fucb8YkAtjtc"
      },
      "outputs": [],
      "source": [
        "def classification_KNN(X, score, txt_rep):\n",
        "    X_train, X_test, y_train, y_test = train_test_split(X,  # Text dataset\n",
        "                                                        score,  # score set\n",
        "                                                        test_size=0.30,  # split size\n",
        "                                                        random_state=50)  # set seed\n",
        "    knn = KNeighborsClassifier(n_neighbors=5,\n",
        "                               n_jobs=-1).fit(X_train, y_train)  # kNN\n",
        "    y_pred = knn.predict(X_test)\n",
        "    print('KNN ' + txt_rep)\n",
        "    print(classification_report(y_test, y_pred))  # report\n",
        "    return 0"
      ]
    },
    {
      "cell_type": "code",
      "execution_count": 30,
      "metadata": {
        "id": "M1OdnGOntmPe"
      },
      "outputs": [],
      "source": [
        "def classification_RandomForest(X, score, txt_rep):\n",
        "    X_train, X_test, y_train, y_test = train_test_split(X,  # Text dataset\n",
        "                                                        score,  # score set\n",
        "                                                        test_size=0.30,  # split size\n",
        "                                                        random_state=50)  # set seed\n",
        "    rf = RandomForestClassifier(n_jobs=-1).fit(X_train, y_train)  # Random Forest\n",
        "    y_pred = rf.predict(X_test)\n",
        "    print('Random Forest ' + txt_rep)\n",
        "    print(classification_report(y_test, y_pred))  # report\n",
        "    return 0"
      ]
    },
    {
      "cell_type": "code",
      "execution_count": 31,
      "metadata": {
        "colab": {
          "base_uri": "https://localhost:8080/"
        },
        "id": "wTiGt-uQtofJ",
        "outputId": "9704f2c0-415f-4b2c-ba82-e8dd8b0bde1a"
      },
      "outputs": [
        {
          "name": "stdout",
          "output_type": "stream",
          "text": [
            "SVD bag of words\n",
            "SVD Binary\n",
            "SVD TF IDF\n",
            "SVM Bag Of Words\n",
            "                  precision    recall  f1-score   support\n",
            "\n",
            "Mainichi Shimbun       1.00      0.07      0.13        14\n",
            " The Japan Times       1.00      1.00      1.00     10574\n",
            "\n",
            "        accuracy                           1.00     10588\n",
            "       macro avg       1.00      0.54      0.57     10588\n",
            "    weighted avg       1.00      1.00      1.00     10588\n",
            "\n",
            "SVM TF-IDF\n",
            "                  precision    recall  f1-score   support\n",
            "\n",
            "Mainichi Shimbun       1.00      0.07      0.13        14\n",
            " The Japan Times       1.00      1.00      1.00     10574\n",
            "\n",
            "        accuracy                           1.00     10588\n",
            "       macro avg       1.00      0.54      0.57     10588\n",
            "    weighted avg       1.00      1.00      1.00     10588\n",
            "\n",
            "SVM Binary\n",
            "                  precision    recall  f1-score   support\n",
            "\n",
            "Mainichi Shimbun       0.69      0.64      0.67        14\n",
            " The Japan Times       1.00      1.00      1.00     10574\n",
            "\n",
            "        accuracy                           1.00     10588\n",
            "       macro avg       0.85      0.82      0.83     10588\n",
            "    weighted avg       1.00      1.00      1.00     10588\n",
            "\n",
            "KNN Bag Of Words\n",
            "                  precision    recall  f1-score   support\n",
            "\n",
            "Mainichi Shimbun       0.60      0.21      0.32        14\n",
            " The Japan Times       1.00      1.00      1.00     10574\n",
            "\n",
            "        accuracy                           1.00     10588\n",
            "       macro avg       0.80      0.61      0.66     10588\n",
            "    weighted avg       1.00      1.00      1.00     10588\n",
            "\n",
            "KNN TF-IDF\n",
            "                  precision    recall  f1-score   support\n",
            "\n",
            "Mainichi Shimbun       1.00      0.21      0.35        14\n",
            " The Japan Times       1.00      1.00      1.00     10574\n",
            "\n",
            "        accuracy                           1.00     10588\n",
            "       macro avg       1.00      0.61      0.68     10588\n",
            "    weighted avg       1.00      1.00      1.00     10588\n",
            "\n",
            "KNN Binary\n",
            "                  precision    recall  f1-score   support\n",
            "\n",
            "Mainichi Shimbun       0.62      0.71      0.67        14\n",
            " The Japan Times       1.00      1.00      1.00     10574\n",
            "\n",
            "        accuracy                           1.00     10588\n",
            "       macro avg       0.81      0.86      0.83     10588\n",
            "    weighted avg       1.00      1.00      1.00     10588\n",
            "\n",
            "Random Forest Bag Of Words\n",
            "                  precision    recall  f1-score   support\n",
            "\n",
            "Mainichi Shimbun       0.44      0.57      0.50        14\n",
            " The Japan Times       1.00      1.00      1.00     10574\n",
            "\n",
            "        accuracy                           1.00     10588\n",
            "       macro avg       0.72      0.79      0.75     10588\n",
            "    weighted avg       1.00      1.00      1.00     10588\n",
            "\n",
            "Random Forest TF-IDF\n",
            "                  precision    recall  f1-score   support\n",
            "\n",
            "Mainichi Shimbun       1.00      0.07      0.13        14\n",
            " The Japan Times       1.00      1.00      1.00     10574\n",
            "\n",
            "        accuracy                           1.00     10588\n",
            "       macro avg       1.00      0.54      0.57     10588\n",
            "    weighted avg       1.00      1.00      1.00     10588\n",
            "\n",
            "Random Forest Binary\n",
            "                  precision    recall  f1-score   support\n",
            "\n",
            "Mainichi Shimbun       0.36      0.29      0.32        14\n",
            " The Japan Times       1.00      1.00      1.00     10574\n",
            "\n",
            "        accuracy                           1.00     10588\n",
            "       macro avg       0.68      0.64      0.66     10588\n",
            "    weighted avg       1.00      1.00      1.00     10588\n",
            "\n"
          ]
        },
        {
          "data": {
            "text/plain": [
              "0"
            ]
          },
          "execution_count": 31,
          "metadata": {},
          "output_type": "execute_result"
        }
      ],
      "source": [
        "X_bow = SVD(X_bow)\n",
        "print(\"SVD bag of words\")\n",
        "X_bin = SVD(X_bin)\n",
        "print(\"SVD Binary\")\n",
        "X_tfidf = SVD(X_tfidf)\n",
        "print(\"SVD TF IDF\")\n",
        "classification_SVM(X_bow, df_clean['source'], 'Bag Of Words')\n",
        "classification_SVM(X_tfidf, df_clean['source'], 'TF-IDF')\n",
        "classification_SVM(X_bin, df_clean['source'], 'Binary')\n",
        "classification_KNN(X_bow, df_clean['source'], 'Bag Of Words')\n",
        "classification_KNN(X_tfidf, df_clean['source'], 'TF-IDF')\n",
        "classification_KNN(X_bin, df_clean['source'], 'Binary')\n",
        "classification_RandomForest(X_bow, df_clean['source'], 'Bag Of Words')\n",
        "classification_RandomForest(X_tfidf, df_clean['source'], 'TF-IDF')\n",
        "classification_RandomForest(X_bin, df_clean['source'], 'Binary')"
      ]
    },
    {
      "cell_type": "markdown",
      "metadata": {
        "id": "oCRGQoY8vURR"
      },
      "source": [
        "### CLUSTER"
      ]
    },
    {
      "cell_type": "code",
      "execution_count": 32,
      "metadata": {
        "id": "8PE1RR9Dt04h"
      },
      "outputs": [],
      "source": [
        "def clustering_kmeans(X, score, txtp_rep):\n",
        "    kmeans = KMeans(n_clusters=2).fit(X) # Number of clusters to find\n",
        "    cluster_kmeans = kmeans.labels_\n",
        "    print('\\nK Means ' + txtp_rep)\n",
        "    print(confusion_matrix(score, cluster_kmeans))  # Confusion Matrix\n",
        "\n",
        "    print('K Means ' + txtp_rep+' Mutual Informatione Score : ' +str(normalized_mutual_info_score(score,\n",
        "                                       cluster_kmeans)))  # Mutual Information Score"
      ]
    },
    {
      "cell_type": "code",
      "execution_count": 33,
      "metadata": {
        "id": "gdg_UEN1vZEE"
      },
      "outputs": [],
      "source": [
        "def clustering_hier(X, score, txtp_rep):\n",
        "    agglomerative = AgglomerativeClustering(distance_threshold=None,\n",
        "                                            n_clusters=2, # Number of clusters to find\n",
        "                                            affinity='euclidean',  # Similarity measure\n",
        "                                            linkage='ward').fit(X  )  # Linkage method\n",
        "    labels_agglomerative = agglomerative.labels_\n",
        "    print('\\nHierarchical ' + txtp_rep)\n",
        "    print(confusion_matrix(score, labels_agglomerative))  # Confusion Matrix\n",
        "\n",
        "    print('Hierarchical '+ txtp_rep+' Mutual Informatione Score : ' +str(normalized_mutual_info_score(score,\n",
        "                                       labels_agglomerative)))  # Mutual Information Score"
      ]
    },
    {
      "cell_type": "code",
      "execution_count": 34,
      "metadata": {
        "colab": {
          "base_uri": "https://localhost:8080/"
        },
        "id": "ySr0VFVvva73",
        "outputId": "59c0c4fc-cbae-42e6-b320-89fd57e8e70a"
      },
      "outputs": [
        {
          "name": "stdout",
          "output_type": "stream",
          "text": [
            "\n",
            "K Means Bag Of Words\n",
            "[[   27    47]\n",
            " [13138 22080]]\n",
            "K Means Bag Of Words Mutual Informatione Score : 8.894277239999418e-07\n",
            "\n",
            "K Means TF-IDF\n",
            "[[    2    72]\n",
            " [ 4267 30951]]\n",
            "K Means TF-IDF Mutual Informatione Score : 0.0006376482447543764\n",
            "\n",
            "K Means Binary\n",
            "[[   73     1]\n",
            " [21261 13957]]\n",
            "K Means Binary Mutual Informatione Score : 0.0026777460172337383\n"
          ]
        }
      ],
      "source": [
        "clustering_kmeans(X_bow, df_clean['type_num'], 'Bag Of Words')\n",
        "clustering_kmeans(X_tfidf, df_clean['type_num'], 'TF-IDF')\n",
        "clustering_kmeans(X_bin, df_clean['type_num'], 'Binary')"
      ]
    },
    {
      "cell_type": "code",
      "execution_count": 35,
      "metadata": {
        "colab": {
          "base_uri": "https://localhost:8080/"
        },
        "id": "ygtArHo-vmu_",
        "outputId": "950bdcf0-3aba-494b-9984-995908f4a565"
      },
      "outputs": [],
      "source": [
        "clustering_hier(X_bow, df_clean['type_num'], 'Bag Of Words')\n",
        "clustering_hier(X_tfidf, df_clean['type_num'], 'TF-IDF')\n",
        "clustering_hier(X_bin, df_clean['type_num'], 'Binary')"
      ]
    }
  ],
  "metadata": {
    "colab": {
      "provenance": []
    },
    "kernelspec": {
      "display_name": "Python 3.8.3 ('base')",
      "language": "python",
      "name": "python3"
    },
    "language_info": {
      "codemirror_mode": {
        "name": "ipython",
        "version": 3
      },
      "file_extension": ".py",
      "mimetype": "text/x-python",
      "name": "python",
      "nbconvert_exporter": "python",
      "pygments_lexer": "ipython3",
      "version": "3.8.3"
    },
    "vscode": {
      "interpreter": {
        "hash": "bee41f18c7d259be3f309dfc48a8abbaa5124ee48eb02505e853b909eb4ef941"
      }
    }
  },
  "nbformat": 4,
  "nbformat_minor": 0
}
